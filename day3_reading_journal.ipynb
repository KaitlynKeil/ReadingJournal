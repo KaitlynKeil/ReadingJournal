{
 "cells": [
  {
   "cell_type": "markdown",
   "metadata": {},
   "source": [
    "# Day 3 Reading Journal\n",
    "\n",
    "This journal includes several required exercises, but it is meant to encourage active reading more generally.  You should use the journal to take detailed notes, catalog questions, and explore the content from Think Python deeply.\n",
    "\n",
    "Reading: Think Python Chapter 8, 10.1-10.6\n",
    "\n",
    "**Due: Monday, February 1 at 12 noon**\n",
    "\n"
   ]
  },
  {
   "cell_type": "markdown",
   "metadata": {},
   "source": [
    "## [Chapter 8](http://www.greenteapress.com/thinkpython/html/thinkpython009.html)\n",
    "\n",
    "Note: the exercise numbers below match up with the reading for ease of cross referencing."
   ]
  },
  {
   "cell_type": "markdown",
   "metadata": {},
   "source": [
    "Remember the index from 0 thing\n",
    "\n",
    "To have 'for x in ____' you need to have it not be an int, so like:\n",
    "    'for x in range(len(word))' where 'word' is a string will give you a thing for each character in 'word'\n",
    "    \n",
    "word[-1] will be the last letter it's great\n",
    "\n",
    "oh hey a while loop also works for strings (index < len(fruit), you can use fruit[index]. make sure to initialize index to 0)\n",
    "\n",
    "'for x in 'JKLMNOPQ'' comes out as x = J, x = K, x = L, etc., not numbers\n",
    "\n",
    "slicing is nice. remember, fruit[:4] gives fruit[0] - [3], not 4, but fruit[4:] gives fruit[4] onwards.\n",
    "\n",
    "Strings are immutable! You'll have to break them into pieces to add something. So:\n",
    "string = 'Kaitlyn eil'\n",
    "string[8] = K\n",
    "ERROR\n",
    "BUT\n",
    "string = string[:8] + 'K' + string[8:]\n",
    "string\n",
    "Kaitlyn Keil\n",
    "\n",
    "#### Methods\n",
    "use dot notation ex: string.method()\n",
    "called an invocation\n",
    "\n",
    "str.split() will split a string along spaces, str.split(,) will do it for commas"
   ]
  },
  {
   "cell_type": "markdown",
   "metadata": {},
   "source": [
    "### Exercise 1  \n",
    "\n",
    "Write a function that takes a string as an argument and displays the letters backward, one per line."
   ]
  },
  {
   "cell_type": "code",
   "execution_count": 5,
   "metadata": {
    "collapsed": false
   },
   "outputs": [
    {
     "name": "stdout",
     "output_type": "stream",
     "text": [
      "!\n",
      "e\n",
      "s\n",
      "n\n",
      "e\n",
      "s\n",
      "n\n",
      "o\n",
      "n\n",
      " \n",
      "s\n",
      "i\n",
      "h\n",
      "t\n",
      " \n",
      "r\n",
      "o\n",
      "f\n",
      " \n",
      "e\n",
      "v\n",
      "i\n",
      "l\n",
      " \n",
      "I\n"
     ]
    }
   ],
   "source": [
    "def spell_it_backwards(string):\n",
    "    \"\"\"\n",
    "    Return given 'word' spelled backwards, with each letter on it's own line\n",
    "    \n",
    "    >>> spell_it_backwards(\"why\")\n",
    "    y\n",
    "    h\n",
    "    w\n",
    "    \"\"\"\n",
    "    for x in range(len(string)):\n",
    "        print string[-(x+1)]\n",
    "\n",
    "import doctest\n",
    "doctest.run_docstring_examples(spell_it_backwards, globals())\n",
    "spell_it_backwards('I live for this nonsense!')"
   ]
  },
  {
   "cell_type": "markdown",
   "metadata": {},
   "source": [
    "**Challenge (optional):** Write a function that translates words into [Pig Latin](https://en.wikipedia.org/wiki/Pig_Latin). \n",
    "\n",
    "**Additional challenge**: Write a function that translates back into English."
   ]
  },
  {
   "cell_type": "code",
   "execution_count": 34,
   "metadata": {
    "collapsed": false
   },
   "outputs": [
    {
     "name": "stdout",
     "output_type": "stream",
     "text": [
      "op-stay is-thay onsense-nay\n",
      "stop this nonsense\n"
     ]
    }
   ],
   "source": [
    "def pig_word(word):\n",
    "    \"\"\"\n",
    "    Return given 'word' translated into Pig Latin\n",
    "    \n",
    "    >>> pig_word(\"software\")\n",
    "    'oftware-say'\n",
    "    \"\"\"\n",
    "    first_vowel = find_beginning(word)\n",
    "    if first_vowel != 0:\n",
    "        pl_word = word[first_vowel:] + '-' + word[:first_vowel] + 'ay'\n",
    "    else:\n",
    "        pl_word = word + '-way'\n",
    "    return pl_word\n",
    "\n",
    "def find_beginning(word):\n",
    "    \"\"\"\n",
    "    Figures out where the first vowel is\n",
    "    \"\"\"\n",
    "    vowel = 6\n",
    "    for x in 'aeiouy':\n",
    "        new_vowel = word.find(x)\n",
    "        if new_vowel < vowel and new_vowel >= 0:\n",
    "            vowel = new_vowel\n",
    "    return vowel\n",
    "\n",
    "def pig_latin(phrase1):\n",
    "    \"\"\"\n",
    "    Translates an entire phrase into pig latin\n",
    "    \n",
    "    >>> pig_latin(\"Stop this nonsense\")\n",
    "    'op-stay is-thay onsense-nay'\n",
    "    \"\"\"\n",
    "    new_list = []\n",
    "    phrase1 = phrase1.lower()\n",
    "    phrase = phrase1.split()\n",
    "    for x in range(len(phrase)):\n",
    "        new_list.append(pig_word(phrase[x]))\n",
    "    pl_phrase = ' '.join(new_list)\n",
    "    return pl_phrase\n",
    "        \n",
    "    \n",
    "def and_back_to_english_word(pl_word):\n",
    "    \"\"\"\n",
    "    Translates single words back to English from pig latin\n",
    "    \"\"\"\n",
    "    word_length = len(pl_word) # this is just useful to have tbh\n",
    "    dash_place = pl_word.find('-')\n",
    "    consonants = pl_word[dash_place + 1:-2]\n",
    "    translated_word = consonants + pl_word[:dash_place]\n",
    "    return translated_word\n",
    "\n",
    "def and_back_to_english(pl_phrase):\n",
    "    \"\"\"\n",
    "    Translates a whole phrase back to English\n",
    "    \"\"\"\n",
    "    new_list = []\n",
    "    phrase = pl_phrase.split()\n",
    "    for x in range(len(phrase)):\n",
    "        new_list.append(and_back_to_english_word(phrase[x]))\n",
    "    trans_phrase = ' '.join(new_list)\n",
    "    return trans_phrase\n",
    "    \n",
    "# If you'd like to actually run the doctests here, you can uncomment the \n",
    "#  lines below.\n",
    "# We use this slightly more complex method to test only the pig_latin \n",
    "#  function, without running tests on any other functions that may be in \n",
    "#  this notebook.\n",
    "import doctest\n",
    "doctest.run_docstring_examples(pig_latin, globals())\n",
    "pl_word = pig_latin('Stop this nonsense')\n",
    "print pl_word\n",
    "print and_back_to_english(pl_word)"
   ]
  },
  {
   "cell_type": "markdown",
   "metadata": {},
   "source": [
    "### Exercise 5\n",
    "Encapsulate the character counting code in a fruitful function named `count` that accepts the string and the letter as arguments and returns the count."
   ]
  },
  {
   "cell_type": "code",
   "execution_count": 10,
   "metadata": {
    "collapsed": false
   },
   "outputs": [
    {
     "data": {
      "text/plain": [
       "7"
      ]
     },
     "execution_count": 10,
     "metadata": {},
     "output_type": "execute_result"
    }
   ],
   "source": [
    "def count(word,letter):\n",
    "    \"\"\"\n",
    "    Takes a word and a letter to search for, then returns the number of\n",
    "    times that letter appears\n",
    "    \"\"\"\n",
    "    count = 0\n",
    "    for x in word:\n",
    "        if x == letter:\n",
    "            count += 1\n",
    "    return count\n",
    "\n",
    "count('supercalifragilisticexpialidocious', 'i')"
   ]
  },
  {
   "cell_type": "markdown",
   "metadata": {},
   "source": [
    "### Exercise 8\n",
    "Skim the documentation of the Python [string methods](http://docs.python.org/2/library/stdtypes.html#string-methods). Experiment with some of them to make sure you understand how they work. strip, replace, and upper/lower are particularly useful."
   ]
  },
  {
   "cell_type": "code",
   "execution_count": 14,
   "metadata": {
    "collapsed": false
   },
   "outputs": [
    {
     "name": "stdout",
     "output_type": "stream",
     "text": [
      "                  what                  \n",
      "what\n",
      "BUT WHY\n",
      "I am a human with the most humanish characteristics of all humans\n",
      "I am a dragon with the most dragonish characteristics of all dragons\n",
      "SUP\n"
     ]
    }
   ],
   "source": [
    "print \"what\".center(40)\n",
    "print \"WHAT\".lower()\n",
    "print \"but why\".upper()\n",
    "human = \"I am a human with the most humanish characteristics of all humans\"\n",
    "print human\n",
    "print human.replace('human', 'dragon')\n",
    "print \"whinewhinewhinewhineSUPwhine\".strip('whine')"
   ]
  },
  {
   "cell_type": "markdown",
   "metadata": {},
   "source": [
    "### Exercise 11  \n",
    "\n",
    "The following functions are all intended to check whether a string contains any lowercase letters, but at least some of them are wrong. For each function, describe what the function actually does (assuming that the parameter is a string)."
   ]
  },
  {
   "cell_type": "code",
   "execution_count": 17,
   "metadata": {
    "collapsed": false
   },
   "outputs": [
    {
     "name": "stdout",
     "output_type": "stream",
     "text": [
      "At the moment, this one just is like 'whoops the first one is lowercase done!'\n",
      "We need to make sure it goes all the way through. Try continue instead of return, then have return True after the whole loop\n",
      "True\n",
      "(It's really not)\n"
     ]
    }
   ],
   "source": [
    "def any_lowercase1(s):\n",
    "    for c in s:\n",
    "        if c.islower():\n",
    "            return True\n",
    "        else:\n",
    "            return False\n",
    "        \n",
    "print \"At the moment, this one just is like 'whoops the first one is lowercase done!'\"\n",
    "print \"We need to make sure it goes all the way through. Try continue instead of return, then have return True after the whole loop\"\n",
    "\n",
    "print any_lowercase1(\"bECAUSE THIS IS TOTALLY LOWERCASE YEP\")\n",
    "print \"(It's really not)\""
   ]
  },
  {
   "cell_type": "markdown",
   "metadata": {},
   "source": [
    " "
   ]
  },
  {
   "cell_type": "code",
   "execution_count": 18,
   "metadata": {
    "collapsed": false
   },
   "outputs": [
    {
     "name": "stdout",
     "output_type": "stream",
     "text": [
      "This will just always return True because 'c', as in this lovely string that is literally just c is always lowercase.\n",
      "True\n"
     ]
    }
   ],
   "source": [
    "def any_lowercase2(s):\n",
    "    for c in s:\n",
    "        if 'c'.islower():\n",
    "            return 'True'\n",
    "        else:\n",
    "            return 'False'\n",
    "print \"This will just always return True because 'c', as in this lovely string that is literally just c is always lowercase.\"\n",
    "print any_lowercase2('ALSO NOT LOWERCASE')"
   ]
  },
  {
   "cell_type": "markdown",
   "metadata": {},
   "source": [
    " "
   ]
  },
  {
   "cell_type": "code",
   "execution_count": 21,
   "metadata": {
    "collapsed": false
   },
   "outputs": [
    {
     "name": "stdout",
     "output_type": "stream",
     "text": [
      "This one should work! If flag is triggered, it will be False! Let's try:\n",
      "True\n",
      "True\n",
      "Oooh I see. This one ends on a lowercase, so flag is returned to True before the end of the program. It won't work.\n"
     ]
    }
   ],
   "source": [
    "def any_lowercase3(s):\n",
    "    for c in s:\n",
    "        flag = c.islower()\n",
    "    return flag\n",
    "\n",
    "print \"This one should work! If flag is triggered, it will be False! Let's try:\"\n",
    "print any_lowercase3(\"does this work\")\n",
    "print any_lowercase3(\"okay but what about thIs\")\n",
    "\n",
    "print \"Oooh I see. This one ends on a lowercase, so flag is returned to True before the end of the program. It won't work.\""
   ]
  },
  {
   "cell_type": "markdown",
   "metadata": {},
   "source": [
    " "
   ]
  },
  {
   "cell_type": "code",
   "execution_count": 22,
   "metadata": {
    "collapsed": false
   },
   "outputs": [
    {
     "name": "stdout",
     "output_type": "stream",
     "text": [
      "This one won't work for the same reason as above. It will be constantly overwritten, and as soon as one c is indeed lower, flag becomes True. Due to 'or,' everything will then be true from then on. Watch:\n",
      "True\n"
     ]
    }
   ],
   "source": [
    "def any_lowercase4(s):\n",
    "    flag = False\n",
    "    for c in s:\n",
    "        flag = flag or c.islower()\n",
    "    return flag\n",
    "\n",
    "print \"This one won't work for the same reason as above. It will be constantly overwritten, and as soon as one c is indeed lower, flag becomes True. Due to 'or,' everything will then be true from then on. Watch:\"\n",
    "print any_lowercase4(\"ALL I NEED IS A SINGLE LITTLE lOWERCASE YEAH\")"
   ]
  },
  {
   "cell_type": "markdown",
   "metadata": {},
   "source": [
    " "
   ]
  },
  {
   "cell_type": "code",
   "execution_count": 25,
   "metadata": {
    "collapsed": false
   },
   "outputs": [
    {
     "name": "stdout",
     "output_type": "stream",
     "text": [
      "This one should work!\n",
      "False\n",
      "False\n",
      "False\n",
      "Oh frick spaces mess with it dang.\n"
     ]
    }
   ],
   "source": [
    "def any_lowercase5(s):\n",
    "    for c in s:\n",
    "        if not c.islower():\n",
    "            return False\n",
    "    return True\n",
    "\n",
    "print \"This one should work!\"\n",
    "print any_lowercase5(\"please please work\")\n",
    "print any_lowercase5(\"i put my TRUUUUST in YOOOOOU\")\n",
    "print any_lowercase5(\"and all the thIngs you said you would do\")\n",
    "s = 'please'\n",
    "any_lowercase5(s)\n",
    "print \"Oh frick spaces mess with it dang.\""
   ]
  },
  {
   "cell_type": "markdown",
   "metadata": {},
   "source": [
    " "
   ]
  },
  {
   "cell_type": "markdown",
   "metadata": {},
   "source": [
    "## [Chapter 10.1 - 10.6](http://www.greenteapress.com/thinkpython/html/thinkpython011.html)\n",
    "\n",
    "You may want to review [state diagrams in Chapter 2](http://www.greenteapress.com/thinkpython/html/thinkpython003.html#toc13).\n",
    "\n"
   ]
  },
  {
   "cell_type": "markdown",
   "metadata": {},
   "source": [
    "**Quick check:** What type of items can be placed in a list?"
   ]
  },
  {
   "cell_type": "markdown",
   "metadata": {},
   "source": [
    "aaaaaanythiiiiiiiing"
   ]
  },
  {
   "cell_type": "markdown",
   "metadata": {},
   "source": [
    " "
   ]
  },
  {
   "cell_type": "markdown",
   "metadata": {},
   "source": [
    "**Quick check:** Give at least one similarity and one difference between lists and strings."
   ]
  },
  {
   "cell_type": "markdown",
   "metadata": {},
   "source": [
    "SIMILARITIES: you can index things also values\n",
    "DIFFERENCES: yeahhhh characters are only for the LAME"
   ]
  },
  {
   "cell_type": "markdown",
   "metadata": {},
   "source": [
    " "
   ]
  },
  {
   "cell_type": "markdown",
   "metadata": {},
   "source": [
    "Lists\n",
    "\n",
    "Lists are frickin' nice. Also, .extend() is a fantastic method and oh look now I can do the thing with gene_finder.\n",
    "Other nice ones:\n",
    "\n",
    "list(str) makes a list out of each element of str/every character.\n",
    "str.split() makes a list divided by every ' ' blah blah blah (can be any delimiter)\n",
    "also str.join(list) will join all the elements of the list with the str and make it all into a lovely string.\n",
    "\n",
    "'is' checks to see that two variables do/do not refer to the same object, or whether they are identical. They are identical if they both 'reference' the same thing. The object they reference is then 'aliased,' and changing one affects the other.\n",
    "Generally... try to avoid that, it can mess with things.\n",
    "Lists are aliased. the .append modifier 'modifies' a list, whereas the + makes a whole new one."
   ]
  },
  {
   "cell_type": "code",
   "execution_count": 38,
   "metadata": {
    "collapsed": false
   },
   "outputs": [
    {
     "name": "stdout",
     "output_type": "stream",
     "text": [
      "[1, 2, 3]\n",
      "None\n",
      "[1, 2, 3, 4]\n",
      "[1, 2, 3]\n"
     ]
    }
   ],
   "source": [
    "t1 = [1,2]\n",
    "t2 = t1.append(3)\n",
    "print t1\n",
    "print t2\n",
    "\n",
    "\n",
    "t2 = t1+[4]\n",
    "print t2\n",
    "print t1"
   ]
  },
  {
   "cell_type": "code",
   "execution_count": 37,
   "metadata": {
    "collapsed": false
   },
   "outputs": [
    {
     "name": "stdout",
     "output_type": "stream",
     "text": [
      "['my', 'nice', 'cat', 'is', 'good', 'and', 'dead']\n",
      "['my', 'nice', 'cat', 'is', 'good', 'and']\n",
      "nice\n",
      "['my', 'cat', 'is', 'good', 'and', 'nice']\n",
      "['my', 'cat', 'is', 'good']\n"
     ]
    }
   ],
   "source": [
    "t = ['my', 'nice', 'cat','is','good','and','dead']\n",
    "print t\n",
    "# clearly, this is horrible. Let's fix it.\n",
    "t.remove('dead')\n",
    "print t\n",
    "desc = t.pop(1)\n",
    "print desc\n",
    "t.append(desc)\n",
    "print t\n",
    "del t[4:]\n",
    "print t"
   ]
  },
  {
   "cell_type": "markdown",
   "metadata": {},
   "source": [
    "### Exercise\n",
    "\n",
    "Write a function `average` that takes a list of numbers and returns their arithmetic mean."
   ]
  },
  {
   "cell_type": "code",
   "execution_count": 35,
   "metadata": {
    "collapsed": false
   },
   "outputs": [
    {
     "name": "stdout",
     "output_type": "stream",
     "text": [
      "5.0\n"
     ]
    }
   ],
   "source": [
    "def arith_mean(number_list):\n",
    "    number_of_numbers = len(number_list)\n",
    "    total = sum(number_list)\n",
    "    mean = float(total)/number_of_numbers\n",
    "    return mean\n",
    "\n",
    "list = [1,6,4,9,7,3]\n",
    "print arith_mean(list)"
   ]
  },
  {
   "cell_type": "markdown",
   "metadata": {},
   "source": [
    "### Exercise\n",
    "You own a restaurant, and you need to keep up with the latest food fads or risk losing your fickle customers. You decide to write a Python function that adds the hot new ingredient _du jour_ to each of your regular menu items and returns the trendy new menu."
   ]
  },
  {
   "cell_type": "code",
   "execution_count": 45,
   "metadata": {
    "collapsed": false
   },
   "outputs": [
    {
     "name": "stdout",
     "output_type": "stream",
     "text": [
      "  Molten Lava Cake with Salted Caramel  \n",
      "   Apple Turnover with Salted Caramel   \n",
      "  Apricot Cobbler with Salted Caramel   \n",
      " Ice Cream Sandwich with Salted Caramel \n",
      "  Gingerbread Cake with Salted Caramel  \n"
     ]
    }
   ],
   "source": [
    "def add_ingredient(menu, ingredient):\n",
    "    \"\"\"\n",
    "    Given a list of string 'menu' items and a trendy 'ingredient' string of the day,\n",
    "    return a new menu list of strings with the ingredient added to each.\n",
    "    \n",
    "    >>> add_ingredient([\"burger\", \"salad\", \"ice cream\"], \"kale\")\n",
    "    ['burger with kale', 'salad with kale', 'ice cream with kale']\n",
    "    \n",
    "    \"\"\"\n",
    "    new_menu = [] #make an empty list for 'new_menu'\n",
    "    for i in range(len(menu)):\n",
    "        new_menu.append(menu[i] + ' with ' + ingredient)\n",
    "    return new_menu\n",
    "\n",
    "def format_menu(menu):\n",
    "    for x in menu:\n",
    "        print x.center(40)\n",
    "\n",
    "# Running doctests in jupyter notebook:\n",
    "# If you'd like to actually run the doctests here, you can uncomment the lines below.\n",
    "# We use this slightly more complex method to test only the add_ingredient function,\n",
    "# without running tests on any other functions that may be in this notebook.\n",
    "\n",
    "import doctest\n",
    "doctest.run_docstring_examples(add_ingredient, globals())\n",
    "# Why would you ever have something not a dessert shop. I'm ashamed.\n",
    "dessert_menu = ['Molten Lava Cake', 'Apple Turnover', 'Apricot Cobbler', 'Ice Cream Sandwich', 'Gingerbread Cake']\n",
    "ingredient = 'Salted Caramel'\n",
    "better_menu = add_ingredient(dessert_menu, ingredient)\n",
    "format_menu(better_menu)"
   ]
  },
  {
   "cell_type": "markdown",
   "metadata": {},
   "source": [
    "## Reading Journal feedback\n",
    "\n",
    "Have any comments on this Reading Journal? Feel free to leave them below and we'll read them when you submit your journal entry. This could include suggestions to improve the exercises, topics you'd like to see covered in class next time, or other feedback.\n",
    "\n",
    "If you have Python questions or run into problems while completing the reading, you should post them to Piazza instead so you can get a quick response before your journal is submitted."
   ]
  },
  {
   "cell_type": "markdown",
   "metadata": {},
   "source": [
    " "
   ]
  }
 ],
 "metadata": {
  "kernelspec": {
   "display_name": "Python 2",
   "language": "python",
   "name": "python2"
  },
  "language_info": {
   "codemirror_mode": {
    "name": "ipython",
    "version": 2
   },
   "file_extension": ".py",
   "mimetype": "text/x-python",
   "name": "python",
   "nbconvert_exporter": "python",
   "pygments_lexer": "ipython2",
   "version": "2.7.6"
  }
 },
 "nbformat": 4,
 "nbformat_minor": 0
}
