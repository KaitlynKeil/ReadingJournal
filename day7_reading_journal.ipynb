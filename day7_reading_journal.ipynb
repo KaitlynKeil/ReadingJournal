{
 "cells": [
  {
   "cell_type": "markdown",
   "metadata": {},
   "source": [
    "# Day 7 Reading Journal\n",
    "\n",
    "This journal includes several required exercises, but it is meant to encourage active reading more generally.  You should use the journal to take detailed notes, catalog questions, and explore the content from Think Python deeply.\n",
    "\n",
    "Reading: Think Python Chapter 11, 12\n",
    "\n",
    "**Due: Thursday, February 18 at 12 noon**\n",
    "\n"
   ]
  },
  {
   "cell_type": "markdown",
   "metadata": {},
   "source": [
    "## [Chapter 11](http://www.greenteapress.com/thinkpython/html/thinkpython012.html)\n"
   ]
  },
  {
   "cell_type": "markdown",
   "metadata": {},
   "source": [
    "**Quick check:** In about one sentence using your own words, what is a dictionary?"
   ]
  },
  {
   "cell_type": "markdown",
   "metadata": {},
   "source": [
    "A dictionary is a list that uses a value of almost any type to refer to another value of almost any type."
   ]
  },
  {
   "cell_type": "markdown",
   "metadata": {},
   "source": [
    " "
   ]
  },
  {
   "cell_type": "markdown",
   "metadata": {},
   "source": [
    "{} == empty list. To add items (or key-value pairs), do something like:"
   ]
  },
  {
   "cell_type": "code",
   "execution_count": 5,
   "metadata": {
    "collapsed": false
   },
   "outputs": [
    {
     "name": "stdout",
     "output_type": "stream",
     "text": [
      "{'one': 'min'}\n",
      "{'four': 'canad', 'three': 'neled', 'five': 'leben', 'two': 'tad', 'one': 'min'}\n",
      "neled\n",
      "5\n",
      "True\n"
     ]
    }
   ],
   "source": [
    "elvish = dict() # creates a dictionary called elvish, never use dict as your dictionary\n",
    "elvish['one'] = 'min'\n",
    "print elvish\n",
    "\n",
    "elvish = {'one':'min', 'two':'tad', 'three':'neled','four':'canad','five':'leben'}\n",
    "print elvish\n",
    "\n",
    "print elvish['three']\n",
    "print len(elvish)\n",
    "\n",
    "vals = elvish.values()\n",
    "print 'leben' in vals"
   ]
  },
  {
   "cell_type": "markdown",
   "metadata": {},
   "source": [
    "The order of the key-value pairs doesn't actually matter, and will often print out as random. But myDict[key] will always produce the same value.\n",
    "\n",
    "Searching a dictionary is done with a hashtable, where the in operator takes the same amount of time no matter how many items are in a dictionary.\n",
    "\n",
    "Implementation is a way of performing a computation."
   ]
  },
  {
   "cell_type": "code",
   "execution_count": 8,
   "metadata": {
    "collapsed": false
   },
   "outputs": [
    {
     "name": "stdout",
     "output_type": "stream",
     "text": [
      "{'a': 8, ' ': 2, 'c': 1, '\"': 2, 'e': 3, 'd': 1, 'h': 6, 'm': 1, ',': 1, '.': 1, 's': 2, 'r': 1}\n"
     ]
    }
   ],
   "source": [
    "def histogram(s):\n",
    "    d = dict()\n",
    "    s=s.lower()\n",
    "    for c in s:\n",
    "        if c not in d:\n",
    "            d[c] = 1\n",
    "        else:\n",
    "            d[c] += 1\n",
    "    return d\n",
    "\n",
    "print histogram('\"AAAAAAAHHHHH,\" she screamed.')"
   ]
  },
  {
   "cell_type": "markdown",
   "metadata": {
    "is_question": true,
    "problem": "Exercise 11.2"
   },
   "source": [
    "### Exercise 2  \n",
    "\n",
    "Dictionaries have a [method called `get`](https://docs.python.org/2/library/stdtypes.html#mapping-types-dict) that takes a key and a default value. If the key appears in the dictionary, `get` returns the corresponding value; otherwise it returns the default value. For example:\n",
    "\n",
    "```\n",
    ">>> h = histogram('a')\n",
    ">>> print h\n",
    "{'a': 1}\n",
    ">>> h.get('a', 0)\n",
    "1\n",
    ">>> h.get('b', 0)\n",
    "0\n",
    "```\n",
    "\n",
    "Use `get` to write `histogram` more concisely. You should be able to eliminate the `if` statement. Add unit tests for your histogram implementation."
   ]
  },
  {
   "cell_type": "code",
   "execution_count": 20,
   "metadata": {
    "collapsed": false,
    "solution": "Exercise 11.2"
   },
   "outputs": [
    {
     "name": "stdout",
     "output_type": "stream",
     "text": [
      "  2\n",
      "e 1\n",
      "d 1\n",
      "f 1\n",
      "i 1\n",
      "m 1\n",
      "o 1\n",
      "n 1\n",
      "r 1\n",
      "y 2\n"
     ]
    }
   ],
   "source": [
    "def histogram(s):\n",
    "    d = dict()\n",
    "    s = s.lower()\n",
    "    for c in s:\n",
    "        d[c] = d.get(c,0) + 1\n",
    "    return d\n",
    "\n",
    "def print_hist(d):\n",
    "    for c in d:\n",
    "        print c, d[c]\n",
    "        \n",
    "h = histogram('Yo my friend')\n",
    "print_hist(h)"
   ]
  },
  {
   "cell_type": "markdown",
   "metadata": {
    "is_question": true,
    "problem": "Exercise 11.4"
   },
   "source": [
    "### Exercise 4  \n",
    "\n",
    "Modify `reverse_lookup` so that it builds and returns a list of all keys that map to `v`, or an empty list if there are none. Add unit tests for your implementation."
   ]
  },
  {
   "cell_type": "code",
   "execution_count": 22,
   "metadata": {
    "collapsed": false,
    "solution": "Exercise 11.4"
   },
   "outputs": [
    {
     "data": {
      "text/plain": [
       "TestResults(failed=0, attempted=1)"
      ]
     },
     "execution_count": 22,
     "metadata": {},
     "output_type": "execute_result"
    }
   ],
   "source": [
    "def reverse_lookup(d, v):\n",
    "    \"\"\" Finds which keys correspond to a particular value (v) in dictionary d.\n",
    "    >>> reverse_lookup({'a':2,'b':5,'c':2},2)\n",
    "    ['a', 'c']\n",
    "    \"\"\"\n",
    "    key_list = []\n",
    "    for k in d:\n",
    "        if d[k] == v:\n",
    "            key_list.append(k)\n",
    "    return key_list\n",
    "\n",
    "import doctest\n",
    "doctest.testmod()"
   ]
  },
  {
   "cell_type": "markdown",
   "metadata": {},
   "source": [
    "If you'd like to learn more about errors and exceptions, you can check out the [Python tutorial](https://docs.python.org/2/tutorial/errors.html) or read ahead to [Appendix A](http://www.greenteapress.com/thinkpython/html/thinkpython021.html) of Think Python. If you choose to use doctest for your unit testing, it can also [deal with exceptions](https://docs.python.org/2/library/doctest.html#what-about-exceptions)."
   ]
  },
  {
   "cell_type": "markdown",
   "metadata": {},
   "source": [
    "**Quick check** What type of objects can be used as keys to a dictionary, i.e. what property must they have?"
   ]
  },
  {
   "cell_type": "markdown",
   "metadata": {},
   "source": [
    "They must be hashable, or immutable. Thus, lists don't work as keys."
   ]
  },
  {
   "cell_type": "markdown",
   "metadata": {},
   "source": [
    " "
   ]
  },
  {
   "cell_type": "markdown",
   "metadata": {
    "is_question": true,
    "problem": "Exercise 11.6"
   },
   "source": [
    "### Exercise 6 (modified)\n",
    "\n",
    "Create a memoized version of your Levenshtein distance function from Day 7. What kind of performance change do you see?\n",
    "\n",
    "Optional: If you'd like to get some quantitative results, you could check out the [timeit](https://docs.python.org/2/library/timeit.html) module\n",
    "\n",
    "Note: You can also study Fibonacci here if you prefer."
   ]
  },
  {
   "cell_type": "code",
   "execution_count": 11,
   "metadata": {
    "collapsed": false,
    "solution": "Exercise 11.6"
   },
   "outputs": [
    {
     "name": "stdout",
     "output_type": "stream",
     "text": [
      "179\n"
     ]
    }
   ],
   "source": [
    "known = {}\n",
    "\n",
    "def levenshtein_distance(a,b):\n",
    "    \"\"\" Finds the difference between two strings/finds the least number of\n",
    "        changes required to make one string into the other\n",
    "\n",
    "        >>> levenshtein_distance('kitten','smitten')\n",
    "        2\n",
    "        >>> levenshtein_distance('','apple')\n",
    "        5\n",
    "        >>> levenshtein_distance('why','')\n",
    "        3\n",
    "    \"\"\"\n",
    "    if len(a) == 0:\n",
    "        return len(b)\n",
    "    if len(b) == 0:\n",
    "        return len(a)\n",
    "\n",
    "    if (a,b) in known:\n",
    "        return known[(a,b)]\n",
    "    \n",
    "    if a[0] == b[0]:\n",
    "        option1 = levenshtein_distance(a[1:], b[1:])\n",
    "    else:\n",
    "        option1 = 1 + levenshtein_distance(a[1:], b[1:])\n",
    "    \n",
    "    option2 = levenshtein_distance(a, b[1:]) + 1\n",
    "    option3 = levenshtein_distance(a[1:], b) + 1\n",
    "\n",
    "    res = min(option1, option2, option3)\n",
    "    known[(a,b)] = res\n",
    "    return res\n",
    "    \n",
    "print levenshtein_distance('In a hole in the ground there lived a hobbit. Not a nasty, dirty, wet hole, filled with the ends of worms and an oozy smell, nor yet a dry, bare, sandy hole with nothing in it to sit down on or to eat: it was a hobbit-hole and that means comfort.','When Mr. Bilbo Baggins of Bag End announced that he would shortly be celebrating his eleventy-first birthday with a party of special magnificence, there was much talk and excitement in Hobbiton.')"
   ]
  },
  {
   "cell_type": "markdown",
   "metadata": {},
   "source": [
    "Global variables (such as known) can be accessed from any function. They often are used as flags. To reassign a global variable inside a function, you first must declare it with 'global flag_name', or else it will just create a local variable of the same name and leave the global one alone.\n",
    "\n",
    "Really long integers become long type, which just means it's cut off with L. You can still do all the things you can do with int with long."
   ]
  },
  {
   "cell_type": "markdown",
   "metadata": {},
   "source": [
    "## [Chapter 12](http://www.greenteapress.com/thinkpython/html/thinkpython013.html)\n",
    "\n",
    "**Quick check:** In about one sentence using your own words, what is a tuple?"
   ]
  },
  {
   "cell_type": "markdown",
   "metadata": {},
   "source": [
    "A tuple is an immutable sequence of any type of value, which is indexed by integers."
   ]
  },
  {
   "cell_type": "markdown",
   "metadata": {},
   "source": [
    "Most list operators work on tuples (slicing, using brackets for indexes, etc.), but no modifiers work. However, you can replace one element with another (see below).\n",
    "\n",
    "Tuple assignment can make swapping variables a lot easier, see below.\n",
    "\n",
    "Gather lets you take as many arguments as needed, combining them into a tuple. Scatter takes a tuple and breaks it into pieces."
   ]
  },
  {
   "cell_type": "markdown",
   "metadata": {},
   "source": [
    " "
   ]
  },
  {
   "cell_type": "code",
   "execution_count": 31,
   "metadata": {
    "collapsed": false
   },
   "outputs": [
    {
     "name": "stdout",
     "output_type": "stream",
     "text": [
      "('B', 'a', 'i', 't', ' ', 'f', 'o', 'r', ' ', 'I', 't')\n",
      "('W', 'a', 'i', 't', ' ', 'f', 'o', 'r', ' ', 'I', 't')\n"
     ]
    }
   ],
   "source": [
    "hamSongs = 'Aaron Burr, sir', 'I will not throw away my shot', 'Satisfied'\n",
    "burr = tuple('Bait for It')\n",
    "print burr\n",
    "burr = ('W',) + burr[1:]\n",
    "print burr"
   ]
  },
  {
   "cell_type": "code",
   "execution_count": 36,
   "metadata": {
    "collapsed": false
   },
   "outputs": [
    {
     "name": "stdout",
     "output_type": "stream",
     "text": [
      "1 2\n",
      "2 1\n",
      "Chaika\n",
      "Devoy\n",
      "Barlow\n"
     ]
    }
   ],
   "source": [
    "a = 1\n",
    "b = 2\n",
    "print a, b\n",
    "a, b = b, a\n",
    "\n",
    "print a, b\n",
    "\n",
    "full_name = 'Chaika Devoy Barlow'\n",
    "first,middle,last = full_name.split()\n",
    "print first\n",
    "print middle\n",
    "print last"
   ]
  },
  {
   "cell_type": "markdown",
   "metadata": {
    "is_question": true,
    "problem": "Exercise 12.1"
   },
   "source": [
    "### Exercise 1  \n",
    "\n",
    "Many of the built-in functions use variable-length argument tuples. For example, `max` and `min` can take any number of arguments:\n",
    "\n",
    "```\n",
    ">>> max(1,2,3)\n",
    "3\n",
    "```\n",
    "\n",
    "But `sum` does not.\n",
    "\n",
    "```\n",
    ">>> sum(1,2,3)\n",
    "TypeError: sum expected at most 2 arguments, got 3\n",
    "```\n",
    "\n",
    "Write a function called ```sumall``` that takes any number of arguments and returns their sum. \n",
    "\n",
    "Write unit tests for your function. Do I actually need to keep saying this? Let's assume it's always a good idea :)"
   ]
  },
  {
   "cell_type": "code",
   "execution_count": 42,
   "metadata": {
    "collapsed": false,
    "solution": "Exercise 12.1"
   },
   "outputs": [
    {
     "name": "stdout",
     "output_type": "stream",
     "text": [
      "34\n",
      "3\n",
      "22\n",
      "1\n"
     ]
    }
   ],
   "source": [
    "def sumall(*args):\n",
    "    total = 0\n",
    "    for number in args:\n",
    "        total += number\n",
    "    return total\n",
    "\n",
    "print sumall(4,7,2,5,7,8,1)\n",
    "print sumall(2,1)\n",
    "print sumall(7,8,4,3)\n",
    "print sumall(1)"
   ]
  },
  {
   "cell_type": "markdown",
   "metadata": {},
   "source": [
    "If you're interested in more flexible ways to pass arguments to functions, check out the [Python tutorial](https://docs.python.org/2/tutorial/controlflow.html#more-on-defining-functions). For instance, you can also use keyword arguments, which are collected into a dictionary just like `*` gathers variable numbers of positional arguments into a tuple.\n",
    "\n",
    "This pattern is very common for defining functions with complex optional behaviors in Python, and you will often see definitions like:\n",
    "\n",
    "```\n",
    "def my_func(required_argument1, *arguments, **keywords):\n",
    "    ...\n",
    "```"
   ]
  },
  {
   "cell_type": "code",
   "execution_count": 46,
   "metadata": {
    "collapsed": false,
    "scrolled": true
   },
   "outputs": [
    {
     "name": "stdout",
     "output_type": "stream",
     "text": [
      "Aaron Burr - Wait for It\n",
      "Angelica - Satisfied\n",
      "Hamilton - I Will Not Throw Away My Shot\n",
      "0 Wait for It\n",
      "1 Satisfied\n",
      "2 I Will Not Throw Away My Shot\n"
     ]
    }
   ],
   "source": [
    "songs = 'Wait for It', 'Satisfied', 'I Will Not Throw Away My Shot'\n",
    "singer = 'Aaron Burr', 'Angelica', 'Hamilton'\n",
    "who_sings = zip(songs, singer)\n",
    "\n",
    "for song, singer in who_sings:\n",
    "    print singer, '-', song\n",
    "    \n",
    "for index, element in enumerate(songs):\n",
    "    print index, element"
   ]
  },
  {
   "cell_type": "markdown",
   "metadata": {
    "is_question": true,
    "problem": "Exercise 12 sort"
   },
   "source": [
    "### Exercise\n",
    "\n",
    "Write a function `sort_by_last_letter` that takes a list of words and returns a new list with the words sorted alphabetically by the _last letter_ in the word. Hint: use the **Decorate, Sort, Undecorate** pattern. Write unit tests for your function."
   ]
  },
  {
   "cell_type": "code",
   "execution_count": 48,
   "metadata": {
    "collapsed": false,
    "solution": "Exercise 12 sort"
   },
   "outputs": [
    {
     "name": "stdout",
     "output_type": "stream",
     "text": [
      "['i', 'random', 'do', 'sentences', 'enjoy', 'why']\n",
      "['take', 'write', 'long', 'so', 'to', 'they']\n"
     ]
    }
   ],
   "source": [
    "def sort_by_last_letter(words):\n",
    "    t = []\n",
    "    for word in words:\n",
    "        t.append((word[-1], word))\n",
    "        \n",
    "    t.sort()\n",
    "    \n",
    "    res = []\n",
    "    for last_letter, word in t:\n",
    "        res.append(word)\n",
    "    return res\n",
    "\n",
    "print sort_by_last_letter(['why','do','i','enjoy','random','sentences'])\n",
    "print sort_by_last_letter(['they','take','so','long','to','write'])"
   ]
  },
  {
   "cell_type": "markdown",
   "metadata": {},
   "source": [
    "**Quick check** Give an example of when you might use each sequence type:\n",
    "\n",
    "- tuple\n",
    "\n",
    "- list\n",
    "\n",
    "- string"
   ]
  },
  {
   "cell_type": "markdown",
   "metadata": {},
   "source": [
    "tuple: as a key for a dictionary, to swap values, to print things out, to compare lists quickly.\n",
    "\n",
    "list: to pass quite a few values into a function\n",
    "\n",
    "string: to print a sentence or as an element in pretty  much anything"
   ]
  },
  {
   "cell_type": "markdown",
   "metadata": {},
   "source": [
    " "
   ]
  },
  {
   "cell_type": "markdown",
   "metadata": {
    "is_question": true,
    "problem": "Exercise 12.3"
   },
   "source": [
    "### Exercise 3  \n",
    "\n",
    "Write a function called `most_frequent` that takes a string and prints the letters in decreasing order of frequency. Find text samples from several different languages and see how letter frequency varies between languages. Compare your results with the tables at http://en.wikipedia.org/wiki/Letter_frequencies. \n",
    "\n",
    "Allen's solution (try it on your own first): http://thinkpython.com/code/most_frequent.py. "
   ]
  },
  {
   "cell_type": "code",
   "execution_count": 30,
   "metadata": {
    "collapsed": false,
    "solution": "Exercise 12.3"
   },
   "outputs": [
    {
     "name": "stdout",
     "output_type": "stream",
     "text": [
      "English   German    Spanish   \n",
      "e 29      e 74      o 47\n",
      "a 24      n 50      a 42\n",
      "n 21      i 42      e 34\n",
      "i 20      u 32      s 29\n",
      "t 16      h 32      r 27\n",
      "r 16      s 28      i 20\n",
      "s 14      r 28      l 19\n",
      "l 13      a 26      c 18\n",
      "m 11      t 20      � 15\n",
      "u 9       c 19      p 14\n",
      "d 9       d 17      u 13\n",
      "c 9       l 16      d 13\n",
      "y 8       b 13      y 10\n",
      "o 8       m 12      t 10\n",
      "h 7       z 10      m 10\n",
      "g 7       g 9       n 9\n",
      "v 5       � 7       v 7\n",
      "f 4       w 5       h 6\n",
      "b 4       o 5       q 4\n",
      "� 2       f 5       b 4\n"
     ]
    }
   ],
   "source": [
    "def histogram(s):\n",
    "    d = dict()\n",
    "    s = s.lower()\n",
    "    for c in s:\n",
    "        d[c] = d.get(c,0) + 1\n",
    "    return d\n",
    "\n",
    "def most_frequent(text):\n",
    "    s = histogram(text)\n",
    "    to_sort = []\n",
    "    result = []\n",
    "    for x, number in s.items():\n",
    "        if x not in \"',.!?:;( )& \":\n",
    "            to_sort.append((number,x))\n",
    "    \n",
    "    to_sort.sort(reverse=True)\n",
    "    for number, x in to_sort:\n",
    "        result.append((x,number))\n",
    "    return result\n",
    "\n",
    "letter_list_english = most_frequent('Hello. My name is Hilde and I am from Germany. I was born in Essen, but have lived for fourteen years in Stuttgart. Currently I am studying mechanical engineering at the university. I like to travel, read and dance. My friends call me a chatterbox , because I’m always talking so much – even during class!')\n",
    "letter_list_german = most_frequent('Hallo. Ich heiße Hilde und komme aus Deutschland. Ich bin in Essen geboren, aber lebe seit vierzehn Jahren in Stuttgart. Zur Zeit studiere ich Maschinenbau an der Universität. Ich mag reisen, lesen und tanzen. Meine Freunde nennen mich „Schwatzliese“, weil ich immer so redselig bin – auch während den Unterricht! Ich habe dunkle, krause Haare, haselnussbraune Augen und ziehe öfters eine Schnute wenn ich beleidigt bin. Ich bin sehr fleißig zum Studieren aber zu faul um meine Wohnung aufzuräumen. Ich trage lieber Jeans und Rennschuhe, als Röcke und Spitzschuhen.')\n",
    "letter_list_spanish = most_frequent('Hola! Yo empecé aprendo Español hace dos mes en la escuela. Yo voy la universidad. Yo tratar estudioso Español tres hora todos los días para que yo saco mejor rápido. ¿Cosa algún yo debo hacer además construir mí vocabulario? Muchas veces yo estudioso la palabras solo para que yo construir mí voabulario rápido. Yo quiero empiezo leo el periódico Español la próxima semana. Por favor correcto algún la equivocaciónes yo hisciste. Gracias!')\n",
    "\n",
    "english_header = \"English\"\n",
    "german_header = \"German\"\n",
    "spanish_header = \"Spanish\"\n",
    "spacing = 10\n",
    "english_header = english_header + \" \"*(spacing - len(english_header))\n",
    "german_header = german_header + ' ' * (spacing - len(german_header))\n",
    "spanish_header = spanish_header + ' ' * (spacing - len(spanish_header))\n",
    "\n",
    "print english_header +  german_header + spanish_header\n",
    "\n",
    "for t in range(20):\n",
    "    spacing_e = ' ' * (9 - (len(str(letter_list_english[t][0])) + len(str(letter_list_english[t][1]))))\n",
    "    spacing_g = ' ' * (9 - (len(str(letter_list_german[t][0])) + len(str(letter_list_german[t][1]))))\n",
    "    \n",
    "    english = str(letter_list_english[t][0]) + ' ' + str(letter_list_english[t][1]) + spacing_e\n",
    "    german = str(letter_list_german[t][0]) + ' ' + str(letter_list_german[t][1]) + spacing_g\n",
    "    spanish = str(letter_list_spanish[t][0]) + ' ' + str(letter_list_spanish[t][1])\n",
    "    print english + german + spanish\n",
    "    \n"
   ]
  },
  {
   "cell_type": "markdown",
   "metadata": {
    "is_question": true,
    "problem": "Exercise 12.6"
   },
   "source": [
    "### Challenge: Exercise 6   (optional)\n",
    "\n",
    "From a [Car Talk Puzzler](http://www.cartalk.com/content/puzzlers):\n",
    "\n",
    "What is the longest English word, that remains a valid English word, as you remove its letters one at a time?\n",
    "\n",
    "Now, letters can be removed from either end, or the middle, but you can’t rearrange any of the letters. Every time you drop a letter, you wind up with another English word. If you do that, you’re eventually going to wind up with one letter and that too is going to be an English word—one that’s found in the dictionary. I want to know what’s the longest word and how many letters does it have?\n",
    "\n",
    "I’m going to give you a little modest example: Sprite. Ok? You start off with sprite, you take a letter off, one from the interior of the word, take the r away, and we’re left with the word spite, then we take the e off the end, we’re left with spit, we take the s off, we’re left with pit, it, and I. \n",
    "\n",
    "Write a program to find all words that can be reduced in this way, and then find the longest one.\n",
    "\n",
    "This exercise is a little more challenging than most, so here are some suggestions:\n",
    "\n",
    "- You might want to write a function that takes a word and computes a list of all the words that can be formed by removing one letter. These are the “children” of the word.\n",
    "- Recursively, a word is reducible if any of its children are reducible. As a base case, you can consider the empty string reducible.\n",
    "- The word list from [Chapter 9.1](http://www.greenteapress.com/thinkpython/html/thinkpython010.html) Exercise 1 doesn’t contain single letter words. So you might want to add “I”, “a”, and the empty string.\n",
    "- To improve the performance of your program, you might want to memoize the words that are known to be reducible.\n",
    "\n",
    "Allen's solution: http://thinkpython.com/code/reducible.py."
   ]
  },
  {
   "cell_type": "code",
   "execution_count": null,
   "metadata": {
    "collapsed": true,
    "solution": "Exercise 12.6"
   },
   "outputs": [],
   "source": []
  },
  {
   "cell_type": "markdown",
   "metadata": {
    "is_question": true,
    "problem": "Feedback"
   },
   "source": [
    "## Reading Journal feedback\n",
    "\n",
    "Have any comments on this Reading Journal? Feel free to leave them below and we'll read them when you submit your journal entry. This could include suggestions to improve the exercises, topics you'd like to see covered in class next time, or other feedback.\n",
    "\n",
    "If you have Python questions or run into problems while completing the reading, you should post them to Piazza instead so you can get a quick response before your journal is submitted."
   ]
  },
  {
   "cell_type": "markdown",
   "metadata": {
    "feedback_response": true,
    "solution": "Feedback"
   },
   "source": [
    " "
   ]
  }
 ],
 "metadata": {
  "kernelspec": {
   "display_name": "Python 2",
   "language": "python",
   "name": "python2"
  },
  "language_info": {
   "codemirror_mode": {
    "name": "ipython",
    "version": 2
   },
   "file_extension": ".py",
   "mimetype": "text/x-python",
   "name": "python",
   "nbconvert_exporter": "python",
   "pygments_lexer": "ipython2",
   "version": "2.7.6"
  }
 },
 "nbformat": 4,
 "nbformat_minor": 0
}
