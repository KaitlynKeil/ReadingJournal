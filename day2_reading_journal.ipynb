{
 "cells": [
  {
   "cell_type": "markdown",
   "metadata": {},
   "source": [
    "# Day 2 Reading Journal\n",
    "\n",
    "This journal includes several required exercises, but it is meant to encourage active reading more generally.  You should use the journal to take detailed notes, catalog questions, and explore the content from Think Python deeply.\n",
    "\n",
    "Reading: Think Python Chapter 6.1-6.4, 7\n",
    "\n",
    "**Due: Thursday, January 28 at 12 noon**\n",
    "\n"
   ]
  },
  {
   "cell_type": "markdown",
   "metadata": {},
   "source": [
    "## [Chapter 6.1-6.4](http://www.greenteapress.com/thinkpython/html/thinkpython007.html)\n",
    "\n",
    "Note: the exercise numbers below match up with the reading for ease of cross referencing."
   ]
  },
  {
   "cell_type": "markdown",
   "metadata": {},
   "source": [
    "**Quick check:** What is a _fruitful function_?"
   ]
  },
  {
   "cell_type": "markdown",
   "metadata": {},
   "source": [
    "Returns a value"
   ]
  },
  {
   "cell_type": "markdown",
   "metadata": {},
   "source": [
    " "
   ]
  },
  {
   "cell_type": "markdown",
   "metadata": {},
   "source": [
    "Dead Code: code after a return statement, or anywhere it will never be read\n",
    "\n",
    "Incremental Development: building tiny piece by tiny piece, so that debugging is easier and done along the way\n",
    "    Scaffolding: helps build the program, but isn't in the final product\n",
    "    Remember:\n",
    "    1. Start w/ working code, build more only when it does so you catch errors right away\n",
    "    2. Use temporary variables for intermediate values so that they can be checked\n",
    "    3. Remove scaffolding once done, as long as it doesn't make it hard to read.\n",
    "    \n",
    "Boolean functions usually are given yes/no question names to return True or False to\n",
    "\n",
    "I now know a complete programming language, according to the Turing Thesis.\n",
    "If there is a recursive definition, there is almost always a Python program to evaluate it.\n",
    "\n",
    "Guardian conditions make sure that only types/values that will work gets passed to the code."
   ]
  },
  {
   "cell_type": "markdown",
   "metadata": {},
   "source": [
    "### Exercise 1  \n",
    "Write a `compare` function that returns `1` if `x > y`, `0` if `x == y`, and `-1` if `x < y`."
   ]
  },
  {
   "cell_type": "code",
   "execution_count": 2,
   "metadata": {
    "collapsed": false
   },
   "outputs": [
    {
     "name": "stdout",
     "output_type": "stream",
     "text": [
      "0\n",
      "1\n",
      "-1\n"
     ]
    }
   ],
   "source": [
    "def compare(x,y):\n",
    "    if x > y:\n",
    "        return 1\n",
    "    elif x == y:\n",
    "        return 0\n",
    "    else:\n",
    "        return -1\n",
    "    \n",
    "print compare(4,4)\n",
    "print compare(5,4)\n",
    "print compare(-4,3)"
   ]
  },
  {
   "cell_type": "markdown",
   "metadata": {},
   "source": [
    "**Quick check:** Modify the `absolute_value` function so that it returns the correct result for all integer inputs."
   ]
  },
  {
   "cell_type": "code",
   "execution_count": 3,
   "metadata": {
    "collapsed": false
   },
   "outputs": [
    {
     "data": {
      "text/plain": [
       "0"
      ]
     },
     "execution_count": 3,
     "metadata": {},
     "output_type": "execute_result"
    }
   ],
   "source": [
    "def absolute_value(x):\n",
    "    if x < 0:\n",
    "        return -x\n",
    "    if x >= 0:\n",
    "        return x\n",
    "    \n",
    "absolute_value(0)"
   ]
  },
  {
   "cell_type": "markdown",
   "metadata": {},
   "source": [
    "### Exercise 2  \n",
    "Use incremental development to write a function called `hypotenuse` that returns the length of the hypotenuse of a right triangle given the lengths of the two legs as arguments. Record each stage of the development process as you go, using as many cells as you need."
   ]
  },
  {
   "cell_type": "code",
   "execution_count": 4,
   "metadata": {
    "collapsed": false
   },
   "outputs": [
    {
     "data": {
      "text/plain": [
       "0.0"
      ]
     },
     "execution_count": 4,
     "metadata": {},
     "output_type": "execute_result"
    }
   ],
   "source": [
    "def hypoLength(l1,l2):\n",
    "    \"\"\"Given l1 and l2 (the length of the two legs), hypoLength will\n",
    "    return the length of the hypotenuse\"\"\"\n",
    "    return 0.0\n",
    "\n",
    "hypoLength(3,4)"
   ]
  },
  {
   "cell_type": "code",
   "execution_count": 5,
   "metadata": {
    "collapsed": false
   },
   "outputs": [
    {
     "name": "stdout",
     "output_type": "stream",
     "text": [
      "First leg is length 3\n",
      "Second leg is length 4\n"
     ]
    },
    {
     "data": {
      "text/plain": [
       "0.0"
      ]
     },
     "execution_count": 5,
     "metadata": {},
     "output_type": "execute_result"
    }
   ],
   "source": [
    "def hypoLength(l1,l2):\n",
    "    \"\"\"Given l1 and l2 (the length of the two legs), hypoLength will\n",
    "    return the length of the hypotenuse\"\"\"\n",
    "    print 'First leg is length', l1\n",
    "    print 'Second leg is length', l2\n",
    "    return 0.0\n",
    "\n",
    "hypoLength(3,4)"
   ]
  },
  {
   "cell_type": "code",
   "execution_count": 6,
   "metadata": {
    "collapsed": false
   },
   "outputs": [
    {
     "name": "stdout",
     "output_type": "stream",
     "text": [
      "The first leg squared is 9\n",
      "The second leg squared is 16\n"
     ]
    },
    {
     "data": {
      "text/plain": [
       "0.0"
      ]
     },
     "execution_count": 6,
     "metadata": {},
     "output_type": "execute_result"
    }
   ],
   "source": [
    "def hypoLength(l1,l2):\n",
    "    \"\"\"Given l1 and l2 (the length of the two legs), hypoLength will\n",
    "    return the length of the hypotenuse\"\"\"\n",
    "    aSquared = l1**2\n",
    "    bSquared = l2**2\n",
    "    print 'The first leg squared is', aSquared\n",
    "    print 'The second leg squared is', bSquared\n",
    "    return 0.0\n",
    "\n",
    "hypoLength(3,4)"
   ]
  },
  {
   "cell_type": "code",
   "execution_count": 7,
   "metadata": {
    "collapsed": false
   },
   "outputs": [
    {
     "name": "stdout",
     "output_type": "stream",
     "text": [
      "The hypotenuse squared is 25\n"
     ]
    },
    {
     "data": {
      "text/plain": [
       "0.0"
      ]
     },
     "execution_count": 7,
     "metadata": {},
     "output_type": "execute_result"
    }
   ],
   "source": [
    "def hypoLength(l1,l2):\n",
    "    \"\"\"Given l1 and l2 (the length of the two legs), hypoLength will\n",
    "    return the length of the hypotenuse\"\"\"\n",
    "    aSquared = l1**2\n",
    "    bSquared = l2**2\n",
    "    cSquared = aSquared+bSquared\n",
    "    print 'The hypotenuse squared is', cSquared\n",
    "    return 0.0\n",
    "\n",
    "hypoLength(3,4)"
   ]
  },
  {
   "cell_type": "code",
   "execution_count": 8,
   "metadata": {
    "collapsed": false
   },
   "outputs": [
    {
     "ename": "NameError",
     "evalue": "global name 'sqrt' is not defined",
     "output_type": "error",
     "traceback": [
      "\u001b[1;31m---------------------------------------------------------------------------\u001b[0m",
      "\u001b[1;31mNameError\u001b[0m                                 Traceback (most recent call last)",
      "\u001b[1;32m<ipython-input-8-7ab3ce8cd5d2>\u001b[0m in \u001b[0;36m<module>\u001b[1;34m()\u001b[0m\n\u001b[0;32m      9\u001b[0m     \u001b[1;32mreturn\u001b[0m \u001b[0mc\u001b[0m\u001b[1;33m\u001b[0m\u001b[0m\n\u001b[0;32m     10\u001b[0m \u001b[1;33m\u001b[0m\u001b[0m\n\u001b[1;32m---> 11\u001b[1;33m \u001b[0mhypoLength\u001b[0m\u001b[1;33m(\u001b[0m\u001b[1;36m3\u001b[0m\u001b[1;33m,\u001b[0m\u001b[1;36m4\u001b[0m\u001b[1;33m)\u001b[0m\u001b[1;33m\u001b[0m\u001b[0m\n\u001b[0m",
      "\u001b[1;32m<ipython-input-8-7ab3ce8cd5d2>\u001b[0m in \u001b[0;36mhypoLength\u001b[1;34m(l1, l2)\u001b[0m\n\u001b[0;32m      5\u001b[0m     \u001b[0mbSquared\u001b[0m \u001b[1;33m=\u001b[0m \u001b[0ml2\u001b[0m\u001b[1;33m**\u001b[0m\u001b[1;36m2\u001b[0m\u001b[1;33m\u001b[0m\u001b[0m\n\u001b[0;32m      6\u001b[0m     \u001b[0mcSquared\u001b[0m \u001b[1;33m=\u001b[0m \u001b[0maSquared\u001b[0m\u001b[1;33m+\u001b[0m\u001b[0mbSquared\u001b[0m\u001b[1;33m\u001b[0m\u001b[0m\n\u001b[1;32m----> 7\u001b[1;33m     \u001b[0mc\u001b[0m \u001b[1;33m=\u001b[0m \u001b[0msqrt\u001b[0m\u001b[1;33m(\u001b[0m\u001b[0mcSquared\u001b[0m\u001b[1;33m)\u001b[0m\u001b[1;33m\u001b[0m\u001b[0m\n\u001b[0m\u001b[0;32m      8\u001b[0m     \u001b[1;32mprint\u001b[0m \u001b[1;34m'The hypotenuse is length'\u001b[0m\u001b[1;33m,\u001b[0m \u001b[0mc\u001b[0m\u001b[1;33m\u001b[0m\u001b[0m\n\u001b[0;32m      9\u001b[0m     \u001b[1;32mreturn\u001b[0m \u001b[0mc\u001b[0m\u001b[1;33m\u001b[0m\u001b[0m\n",
      "\u001b[1;31mNameError\u001b[0m: global name 'sqrt' is not defined"
     ]
    }
   ],
   "source": [
    "def hypoLength(l1,l2):\n",
    "    \"\"\"Given l1 and l2 (the length of the two legs), hypoLength will\n",
    "    return the length of the hypotenuse\"\"\"\n",
    "    aSquared = l1**2\n",
    "    bSquared = l2**2\n",
    "    cSquared = aSquared+bSquared\n",
    "    c = sqrt(cSquared)\n",
    "    print 'The hypotenuse is length', c\n",
    "    return c\n",
    "\n",
    "hypoLength(3,4)"
   ]
  },
  {
   "cell_type": "code",
   "execution_count": 9,
   "metadata": {
    "collapsed": false
   },
   "outputs": [
    {
     "name": "stdout",
     "output_type": "stream",
     "text": [
      "The hypotenuse is length 5.0\n"
     ]
    },
    {
     "data": {
      "text/plain": [
       "5.0"
      ]
     },
     "execution_count": 9,
     "metadata": {},
     "output_type": "execute_result"
    }
   ],
   "source": [
    "def hypoLength(l1,l2):\n",
    "    import math\n",
    "    \"\"\"Given l1 and l2 (the length of the two legs), hypoLength will\n",
    "    return the length of the hypotenuse\"\"\"\n",
    "    aSquared = l1**2\n",
    "    bSquared = l2**2\n",
    "    cSquared = aSquared+bSquared\n",
    "    c = math.sqrt(cSquared) # Forgot to import math\n",
    "    print 'The hypotenuse is length', c\n",
    "    return c\n",
    "\n",
    "hypoLength(3,4)"
   ]
  },
  {
   "cell_type": "markdown",
   "metadata": {},
   "source": [
    "### Exercise 3  \n",
    "Write a function `is_between(x, y, z)` that returns `True` if `x ≤ y ≤ z` or `False` otherwise."
   ]
  },
  {
   "cell_type": "code",
   "execution_count": 14,
   "metadata": {
    "collapsed": false
   },
   "outputs": [
    {
     "name": "stdout",
     "output_type": "stream",
     "text": [
      "True\n",
      "False\n",
      "False\n",
      "False\n"
     ]
    }
   ],
   "source": [
    "def is_between(x,y,z):\n",
    "    if compare(x,y) == -1 and compare(y,z) == -1:\n",
    "        return True\n",
    "    else:\n",
    "        return False\n",
    "\n",
    "print is_between(1,2,3)\n",
    "print is_between(8,4,5)\n",
    "print is_between(3,5,2)\n",
    "print is_between(1,3,2)"
   ]
  },
  {
   "cell_type": "markdown",
   "metadata": {},
   "source": [
    "## [Chapter 7](http://www.greenteapress.com/thinkpython/html/thinkpython008.html)\n",
    "\n"
   ]
  },
  {
   "cell_type": "markdown",
   "metadata": {},
   "source": [
    "**Quick check:** How do you test for equality in Python?"
   ]
  },
  {
   "cell_type": "markdown",
   "metadata": {},
   "source": [
    "Use the boolean operator =="
   ]
  },
  {
   "cell_type": "markdown",
   "metadata": {},
   "source": [
    " "
   ]
  },
  {
   "cell_type": "markdown",
   "metadata": {},
   "source": [
    "Update: x = x+1 or similar. use a variable to define itself, after it has been initialized. this is an increment; x = x-1 is a decrement\n",
    "\n",
    "while statement: checks a condition and performs a loop as long as that condition is true\n",
    "\n",
    "The body of the loop should change 1 or more variables in the condition so the loop eventually terminates, or else you will get an infinite loop\n",
    "\n",
    "while loops are nice because you can express the stop condition affirmatively instead of always negatively, particularly by using 'break' somewhere in the body of the loop.\n",
    "\n",
    "algorithms are ways of figuring something out with 'no intelligence,' or using 'tricks' to reason something out (consider how you tend to find 9)"
   ]
  },
  {
   "cell_type": "markdown",
   "metadata": {},
   "source": [
    "**Challenge:** Prove/disprove the Collatz conjecture :)"
   ]
  },
  {
   "cell_type": "markdown",
   "metadata": {},
   "source": [
    "### Exercise 2  \n",
    "Encapsulate the loop from Section 7.5 in a function called `square_root` that takes `a` as a parameter, chooses a reasonable value of `x`, and returns an estimate of the square root of `a`."
   ]
  },
  {
   "cell_type": "code",
   "execution_count": 47,
   "metadata": {
    "collapsed": false
   },
   "outputs": [
    {
     "data": {
      "text/plain": [
       "4.0"
      ]
     },
     "execution_count": 47,
     "metadata": {},
     "output_type": "execute_result"
    }
   ],
   "source": [
    "def square_root(a):\n",
    "    \"\"\"Given a value, a, this will estimate the square root\"\"\"\n",
    "    x = float(a/2) #give x an initial value to guess from\n",
    "    y = (x + a/x)/2\n",
    "    acceptableError = .0000000000000001 #set an acceptable error for the answer\n",
    "    while True:\n",
    "        y = (x + a/x)/2\n",
    "        if abs(x-y) < acceptableError:\n",
    "            break\n",
    "        x = y    \n",
    "    return x\n",
    "\n",
    "square_root(16)"
   ]
  },
  {
   "cell_type": "markdown",
   "metadata": {},
   "source": [
    "### Exercise 3  \n",
    "To test the square root algorithm you developed in Exercise 2, you could compare it with Python's `math.sqrt` function. Write a function named `test_square_root` that prints a table like this:\n",
    "\n",
    "```python\n",
    "1.0 1.0           1.0           0.0\n",
    "2.0 1.41421356237 1.41421356237 2.22044604925e-16\n",
    "3.0 1.73205080757 1.73205080757 0.0\n",
    "4.0 2.0           2.0           0.0\n",
    "5.0 2.2360679775  2.2360679775  0.0\n",
    "6.0 2.44948974278 2.44948974278 0.0\n",
    "7.0 2.64575131106 2.64575131106 0.0\n",
    "8.0 2.82842712475 2.82842712475 4.4408920985e-16\n",
    "9.0 3.0           3.0           0.0\n",
    "```\n",
    "\n",
    "The first column is a number, `a`; the second column is the square root of a computed with the function from Section 7.5; the third column is the square root computed by `math.sqrt`; the fourth column is the absolute value of the difference between the two estimates."
   ]
  },
  {
   "cell_type": "code",
   "execution_count": 48,
   "metadata": {
    "collapsed": false
   },
   "outputs": [
    {
     "name": "stdout",
     "output_type": "stream",
     "text": [
      "1.0 1.0            1.0            0.0\n",
      "2.0 1.41421356237  1.41421356237  2.22044604925e-16\n",
      "3.0 1.73205080757  1.73205080757  0.0\n",
      "4.0 2.0            2.0            0.0\n",
      "5.0 2.2360679775   2.2360679775   0.0\n",
      "6.0 2.44948974278  2.44948974278  0.0\n",
      "7.0 2.64575131106  2.64575131106  0.0\n",
      "8.0 2.82842712475  2.82842712475  4.4408920985e-16\n",
      "9.0 3.0            3.0            0.0\n"
     ]
    }
   ],
   "source": [
    "import math\n",
    "\n",
    "def test_square_root():\n",
    "    \"\"\"Compares methods of finding a square root using Python programs\"\"\"\n",
    "    a = 1.0 # initialize a\n",
    "    while a < 10:\n",
    "        pSq = math.sqrt(a) # checks the python version of square root\n",
    "        mySq = square_root(a) # checks my version of square root\n",
    "        diff = abs(mySq - pSq) # checks the difference between the values\n",
    "        # find the number of spaces to complete the table\n",
    "        mySpace = 13 - len(str(mySq))\n",
    "        pSpace = 13 - len(str(pSq))\n",
    "        print a, mySq, ' ' * mySpace, pSq, ' ' * pSpace, diff\n",
    "        a = a + 1.0\n",
    "\n",
    "test_square_root()"
   ]
  },
  {
   "cell_type": "markdown",
   "metadata": {},
   "source": [
    "### Challenge: Exercise 5  (optional)\n",
    "The mathematician Srinivasa Ramanujan found an infinite series that can be used to generate a numerical approximation of\n",
    "$\\frac{1}{\\pi}$:\n",
    "\n",
    "$$\\frac{1}{\\pi} = \\frac{2 \\sqrt{2}}{9801} \\sum_{k=0}^{\\infty} \\frac{(4k)! (1103+26390k)}{(k!)^4 396^{4k}}$$\n",
    " \n",
    "Write a function called `estimate_pi` that uses this formula to compute and return an estimate of $\\pi$. It should use a `while` loop to compute terms of the summation until the last term is smaller than `1e-15` (which is Python notation for $10^{−15}$). You can check the result by comparing it to `math.pi`.\n",
    "\n",
    "[Possible solution](http://thinkpython.com/code/pi.py) (give the exercise a try before viewing the solution)"
   ]
  },
  {
   "cell_type": "code",
   "execution_count": null,
   "metadata": {
    "collapsed": true
   },
   "outputs": [],
   "source": [
    "import math\n",
    "\n",
    "def factorial(n):\n",
    "    if n == 0:\n",
    "        return 1\n",
    "    else:\n",
    "        return n * factorial(n-1)\n",
    "\n",
    "def estimate_pi():\n",
    "    k = 0\n",
    "    constant = (2*math.sqrt(2.0)) / 9801 # get the constant from out front\n",
    "    total = 0\n",
    "    while True:\n",
    "        # find numerator = (4k)!*(1103 + 26390k)\n",
    "        nTerm1 = factorial(4*k)\n",
    "        nTerm2 = 1103 + 26390 * k\n",
    "        num = nTerm1 * nTerm2 \n",
    "        \n",
    "        # find denominator = (k!)**4 * 396**(4k)\n",
    "        dTerm1 = factorial(k) ** 4\n",
    "        dTerm2 = 396 ** (4*k)\n",
    "        den = dTerm1 * dTerm2\n",
    "        \n",
    "        term = constant * num/den\n",
    "        total = total + term\n",
    "        if term < 1e-15:\n",
    "            break\n",
    "        k = k+1\n",
    "\n",
    "    Pi = total**-1\n",
    "    error = abs(Pi - math.pi)\n",
    "    print 'Pi is estimated to be:', Pi\n",
    "    print 'This has an error of', error\n",
    "    return Pi\n",
    "    \n",
    "estimate_pi()"
   ]
  },
  {
   "cell_type": "markdown",
   "metadata": {},
   "source": [
    "## Reading Journal feedback\n",
    "\n",
    "Have any comments on this Reading Journal? Feel free to leave them below and we'll read them when you submit your journal entry. This could include suggestions to improve the exercises, topics you'd like to see covered in class next time, or other feedback.\n",
    "\n",
    "If you have Python questions or run into problems while completing the reading, you should post them to Piazza instead so you can get a quick response before your journal is submitted."
   ]
  },
  {
   "cell_type": "markdown",
   "metadata": {},
   "source": [
    "So... the code won't run in the final cell (the challenge one), but it runs well in sublime. The answer it spits out is:\n",
    "\n",
    "Pi is estimated to be: 3.14159265359\n",
    "This has an error of 0.0\n",
    "\n",
    "So there you go. I don't understand, and I asked a couple people who also don't know, But! I did figure out the challenge!"
   ]
  },
  {
   "cell_type": "markdown",
   "metadata": {},
   "source": [
    " "
   ]
  }
 ],
 "metadata": {
  "kernelspec": {
   "display_name": "Python 2",
   "language": "python",
   "name": "python2"
  },
  "language_info": {
   "codemirror_mode": {
    "name": "ipython",
    "version": 2
   },
   "file_extension": ".py",
   "mimetype": "text/x-python",
   "name": "python",
   "nbconvert_exporter": "python",
   "pygments_lexer": "ipython2",
   "version": "2.7.6"
  }
 },
 "nbformat": 4,
 "nbformat_minor": 0
}
