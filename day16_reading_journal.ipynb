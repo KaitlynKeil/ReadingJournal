{
 "cells": [
  {
   "cell_type": "markdown",
   "metadata": {},
   "source": [
    "# Day 16 Reading Journal\n",
    "\n",
    "This journal includes several required exercises, but it is meant to encourage active reading more generally.  You should use the journal to take detailed notes, catalog questions, and explore the content from Think Python deeply.\n",
    "\n",
    "Reading: Think Python Appendix B (through B.2)\n",
    "\n",
    "**Due: Monday, March 28 at 12 noon**\n"
   ]
  },
  {
   "cell_type": "markdown",
   "metadata": {},
   "source": [
    "## [Appendix B](http://www.greenteapress.com/thinkpython/html/thinkpython022.html)\n",
    "\n",
    "You only need to read as far as section B.2 (inclusive), but feel free to go further and try more exercises if you are interested."
   ]
  },
  {
   "cell_type": "markdown",
   "metadata": {},
   "source": [
    "Analysis of Algorithms: computer science studying the performance of algorithms (run time, space requirements)\n",
    "\n",
    "supposed to make meaningful comparisons, but that's hard\n",
    "    \n",
    "   hardware might affect, so a machine model is specified for even comparison\n",
    "   details of dataset might affect, like how sorted the thing is already; specify worst case scenario to get around\n",
    "   size of problem can vary: is it fast for long lists as well as short? solution is to express run time as a function of problem size, functions get compared asymptotically as the problem increases\n",
    "        \n",
    "   leading term is term w/ highest exponent and determines the order of growth. Algorithms with smaller leading terms are better for large problems, but the CROSSOVER POINT shows where another algorithm might be better for small terms. Often ignored for analysis.\n",
    "   Functions w/ the same leading term are considered equivalent.\n",
    "        \n",
    "   order of growth is a set of functions whose asymptotic growth is considered equivalent, so anything with the same leading term. Big-Oh notation writes linear growth (leading term is 1) as O(n). O(n<sup>2</sup>) is quadratic, there's also constant O(1), logarithmic O(log<sub>b</sub> n), \"en log en\" O(n log<sub>b</sub> n), cubic O(n<sup>3</sup>) and exponential O(c<sup>n</sup>)."
   ]
  },
  {
   "cell_type": "markdown",
   "metadata": {
    "is_question": true,
    "problem": "Exercise B.1"
   },
   "source": [
    "### Exercise 1  \n",
    "\n",
    "Read the [Wikipedia page on Big-Oh notation](http://en.wikipedia.org/wiki/Big_O_notation) and answer the following questions:\n",
    "\n",
    " 1. What is the order of growth of n<sup>3</sup> + n<sup>2</sup>? What about 1000000 n<sup>3</sup> + n<sup>2</sup>? What about n<sup>3</sup> + 1000000 n<sup>2</sup>?\n",
    " 2. What is the order of growth of (n<sup>2</sup> + n) * (n + 1)? Before you start multiplying, remember that you only need the leading term.\n",
    " 3. If f is in O(g), for some unspecified function g, what can we say about af+b?\n",
    " 4. If f<sub>1</sub> and f<sub>2</sub> are in O(g), what can we say about f<sub>1</sub> + f<sub>2</sub>?\n",
    " 5. If f<sub>1</sub> is in O(g) and f<sub>2</sub> is in O(h), what can we say about f<sub>1</sub> + f<sub>2</sub>?\n",
    " 6. If f<sub>1</sub> is in O(g) and f<sub>2</sub> is O(h), what can we say about f<sub>1</sub> * f<sub>2</sub>? "
   ]
  },
  {
   "cell_type": "markdown",
   "metadata": {
    "collapsed": false,
    "solution": "Exercise B.1"
   },
   "source": [
    "  1. All three are O(n<sup>3</sup>)\n",
    "  2. Also O(n<sup>3</sup>)\n",
    "  3. af+b is also O(g), assuming a and b are constants\n",
    "  4. It's O(g)\n",
    "  5. It appears this will be O(|g|+|h|)\n",
    "  6. O(gh)"
   ]
  },
  {
   "cell_type": "markdown",
   "metadata": {},
   "source": [
    "Arithmetic operations are usually constant time, w/ a speed kinda like\n",
    "    division > multiplication > addition/subtraction\n",
    "   but larger numbers break this.\n",
    "   \n",
    "Indexing operations, like reading/writing elements in a sequence, are constant.\n",
    "\n",
    "for loops are linear, as long as the operations are all constant.\n",
    "\n",
    "sum has a smaller leading coefficient than a for loop, adding strings makes the for loop quadradic b/c string concatenation is linear. This is why .join is better.\n",
    "\n",
    "Basically, if body of the loop is O(n<sup>a</sup>), the whole loop is O(n<sup>a+1</sup>), unless the loop quits after a constant number of iterations.\n",
    "\n",
    "string/tuple operations are usually inear, except indexing and len (constant), string methods are linear, list methods are mostly linear (exceptions include adding or removing elements--constant--and sorting--O(nlogn)).\n",
    "dictionary ops and methods are constant except for 'copy,' 'update,'(proportional to size) and 'keys, values, and items', which are linear."
   ]
  },
  {
   "cell_type": "markdown",
   "metadata": {
    "is_poll": true,
    "is_question": true,
    "problem": "Time spent"
   },
   "source": [
    "## Quick poll\n",
    "About how long did you spend working on this Reading Journal?"
   ]
  },
  {
   "cell_type": "markdown",
   "metadata": {},
   "source": [
    "30 min"
   ]
  },
  {
   "cell_type": "markdown",
   "metadata": {
    "poll_response": true,
    "solution": "Time spent"
   },
   "source": [
    " "
   ]
  },
  {
   "cell_type": "markdown",
   "metadata": {
    "is_question": true,
    "problem": "Feedback"
   },
   "source": [
    "## Reading Journal feedback\n",
    "\n",
    "Have any comments on this Reading Journal? Feel free to leave them below and we'll read them when you submit your journal entry. This could include suggestions to improve the exercises, topics you'd like to see covered in class next time, or other feedback.\n",
    "\n",
    "If you have Python questions or run into problems while completing the reading, you should post them to Piazza instead so you can get a quick response before your journal is submitted."
   ]
  },
  {
   "cell_type": "markdown",
   "metadata": {
    "feedback_response": true,
    "solution": "Feedback"
   },
   "source": [
    " "
   ]
  }
 ],
 "metadata": {
  "kernelspec": {
   "display_name": "Python 2",
   "language": "python",
   "name": "python2"
  },
  "language_info": {
   "codemirror_mode": {
    "name": "ipython",
    "version": 2
   },
   "file_extension": ".py",
   "mimetype": "text/x-python",
   "name": "python",
   "nbconvert_exporter": "python",
   "pygments_lexer": "ipython2",
   "version": "2.7.6"
  }
 },
 "nbformat": 4,
 "nbformat_minor": 0
}
