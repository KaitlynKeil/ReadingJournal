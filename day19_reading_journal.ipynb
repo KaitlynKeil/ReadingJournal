{
 "cells": [
  {
   "cell_type": "markdown",
   "metadata": {},
   "source": [
    "# Day 19 Reading Journal\n",
    "\n",
    "This journal includes several required exercises, but it is meant to encourage active reading more generally.  You should use the journal to take detailed notes, catalog questions, and explore the content from Think Python deeply.\n",
    "\n",
    "Reading: Think Python **2** Chapter 19\n",
    "\n",
    "**Due: Thursday, April 7 at 12 noon**\n"
   ]
  },
  {
   "cell_type": "markdown",
   "metadata": {},
   "source": [
    "## [Chapter 19](http://greenteapress.com/thinkpython2/html/thinkpython2020.html)\n",
    "\n",
    "This reading is \"the goodies\" - all the cool Python features that aren't strictly necessary but can make your code more concise, readable, and/or efficient.\n",
    "\n",
    "**Note:** This chapter is taken from the Think Python second edition, which is written for Python 3. There are [several differences](https://blog.appdynamics.com/devops/the-key-differences-between-python-2-and-python-3/) between Python 2 and 3, but the main one that comes up in this chapter is that '''print''' is a normal function (with parentheses) in Python 3 instead of a special statement. The rest of the concepts you read about in this chapter are also available in Python 2.7.\n",
    "\n",
    "You can read any of the sections you like, but we particularly recommend sections 2, 5, 9."
   ]
  },
  {
   "cell_type": "markdown",
   "metadata": {},
   "source": [
    "Conditional Expression: like an if-else except as one line.\n",
    "y = math.log(x) if x > 0 else float('nan') for example, or self.pouch_contents = [] if contents == None else contents\n",
    "\n",
    "Generator expressions are like list comprehensions, except not lists and use parentheses. It makes a generator object that can then be used to iterate through values with the built-in next function. You can also use a for loop. See example below. It can be used in things like sums as well."
   ]
  },
  {
   "cell_type": "code",
   "execution_count": 4,
   "metadata": {
    "collapsed": false
   },
   "outputs": [
    {
     "name": "stdout",
     "output_type": "stream",
     "text": [
      "<generator object <genexpr> at 0x7f42d8bc84b0>\n",
      "0\n",
      "1\n",
      "4\n",
      "9\n",
      "16\n"
     ]
    },
    {
     "data": {
      "text/plain": [
       "30"
      ]
     },
     "execution_count": 4,
     "metadata": {},
     "output_type": "execute_result"
    }
   ],
   "source": [
    "g = (x**2 for x in range(5))\n",
    "print g\n",
    "\n",
    "print next(g)\n",
    "print next(g)\n",
    "\n",
    "for val in g:\n",
    "    print val\n",
    "    \n",
    "sum(x**2 for x in range(5))"
   ]
  },
  {
   "cell_type": "markdown",
   "metadata": {},
   "source": [
    "any is a function that takes a sequence of boolean values and returns True if any of them are True. It can work on lists or generator functions. This can be used for 'avoids' (see below).\n",
    "\n",
    "all is a function that returns True if all the elements are True, so like and for longer sequences. Can be used for generators or lists."
   ]
  },
  {
   "cell_type": "code",
   "execution_count": 6,
   "metadata": {
    "collapsed": false
   },
   "outputs": [
    {
     "data": {
      "text/plain": [
       "True"
      ]
     },
     "execution_count": 6,
     "metadata": {},
     "output_type": "execute_result"
    }
   ],
   "source": [
    "def avoids(word, forbidden):\n",
    "    return not any(letter in forbidden for letter in word)\n",
    "\n",
    "avoids('supercalifragilisticexpealadocious', 'z')"
   ]
  },
  {
   "cell_type": "markdown",
   "metadata": {},
   "source": [
    "Sets are dictionary keys without values. You can subtract them (yielding what was in the first set but not the second). Since elements can only appear in a set once, you can do things like you see below.\n",
    "\n",
    "sets take the keys from dictionaries or all the elements from a list. <= checks to see if one set is a subset of or equal to the other."
   ]
  },
  {
   "cell_type": "code",
   "execution_count": 18,
   "metadata": {
    "collapsed": false
   },
   "outputs": [
    {
     "name": "stdout",
     "output_type": "stream",
     "text": [
      "True\n",
      "True\n",
      "False\n",
      "True\n"
     ]
    }
   ],
   "source": [
    "def has_duplicates(t):\n",
    "    return len(set(t)) < len(t)\n",
    "\n",
    "def uses_only(word, available):\n",
    "    return set(word) <= set(available)\n",
    "\n",
    "def avoids(word, forbidden):\n",
    "    return not set(forbidden) <= set(word)\n",
    "\n",
    "dictionary = ['city', 'San Francisco', 2, 'Neato', 'name', 'Zed', 1, 'Wow', 'age', 39, 'height', 74, 'town', 'San Francisco', 1,'Why']\n",
    "print has_duplicates(dictionary)\n",
    "\n",
    "print uses_only('mississippi', 'misp')\n",
    "\n",
    "print avoids('mississippi', 'misp')\n",
    "print avoids('supercalifragilisticexpealadocious', 'z')"
   ]
  },
  {
   "cell_type": "markdown",
   "metadata": {},
   "source": [
    "Counters are like sets, except they keep track of how many times a thing appears. So like a histogram dictionary. You have to import them from collections to use them. They return 0 if the thing isn't in them.\n",
    "\n",
    "Counter.most_common(#) gives the top # most common values.\n",
    "\n",
    "defaultdict is in collections, it generates a new value if the requested key doesn't have one. You need to provide a 'factory' function for this: a function used to create values.\n",
    "\n",
    "By using the __str__ method, you can name tuples and call them. So instead of using p.x and p.y, you could use p[0] and p[1]\n",
    "\n",
    "keyword args are arguments into a function that have keywords (so variable=value). Gather them with two astricks in front of whatever you want to call them in the function def (usually kwargs). They'll get gathered into a dictionary. You can then use the scatter operator (two astricks) to call a function. See below."
   ]
  },
  {
   "cell_type": "code",
   "execution_count": 23,
   "metadata": {
    "collapsed": false
   },
   "outputs": [
    {
     "name": "stdout",
     "output_type": "stream",
     "text": [
      "l 2\n",
      "h 1\n",
      "e 1\n",
      "o 1\n",
      "True\n"
     ]
    }
   ],
   "source": [
    "from collections import Counter\n",
    "def is_anagram(word1, word2):\n",
    "    return Counter(word1) == Counter(word2)\n",
    "\n",
    "count1 = Counter('hello')\n",
    "for val, freq in count1.most_common(4):\n",
    "    print val, freq\n",
    "    \n",
    "print is_anagram('banana', 'ananab')"
   ]
  },
  {
   "cell_type": "code",
   "execution_count": 27,
   "metadata": {
    "collapsed": false
   },
   "outputs": [
    {
     "name": "stdout",
     "output_type": "stream",
     "text": [
      "(1, 2)\n",
      "((1, 2.0), {'hi': 'bye', 'third': '3'})\n"
     ]
    }
   ],
   "source": [
    "class Point:\n",
    "\n",
    "    def __init__(self, x=0, y=0):\n",
    "        self.x = x\n",
    "        self.y = y\n",
    "\n",
    "    def __str__(self):\n",
    "        return '(%g, %g)' % (self.x, self.y)\n",
    "    \n",
    "def printall(*args, **kwargs):\n",
    "    print(args, kwargs)\n",
    "\n",
    "d = dict(x=1, y=2)\n",
    "print Point(**d)\n",
    "printall(1, 2.0, third='3', hi='bye')"
   ]
  },
  {
   "cell_type": "markdown",
   "metadata": {
    "is_question": true,
    "problem": "Exercise 19.1"
   },
   "source": [
    "### Exercise 1  \n",
    "\n",
    "Rewrite the following functions using list comprehensions."
   ]
  },
  {
   "cell_type": "code",
   "execution_count": 2,
   "metadata": {
    "collapsed": false,
    "solution": "Exercise 19.1"
   },
   "outputs": [
    {
     "data": {
      "text/plain": [
       "TestResults(failed=0, attempted=5)"
      ]
     },
     "execution_count": 2,
     "metadata": {},
     "output_type": "execute_result"
    }
   ],
   "source": [
    "def square(seq):\n",
    "    \"\"\"\n",
    "    Return a new list containing all the elements of 'seq'uence squared.\n",
    "    \n",
    "    >>> square([1, 2, 3])\n",
    "    [1, 4, 9]\n",
    "    >>> square([0, -5, 2.5])\n",
    "    [0, 25, 6.25]\n",
    "    >>> square([8, \"hello\", 10])\n",
    "    Traceback (most recent call last):\n",
    "      ...\n",
    "    TypeError: unsupported operand type(s) for ** or pow(): 'str' and 'int'\n",
    "    \"\"\"\n",
    "    return [item**2 for item in seq]\n",
    "\n",
    "def evens(seq):\n",
    "    \"\"\"\n",
    "    Return a new list containing only the elements of 'seq'uence that are even.\n",
    "    \n",
    "    >>> evens([1, 2, 3, 4])\n",
    "    [2, 4]\n",
    "    >>> evens(square(range(5)))\n",
    "    [0, 4, 16]\n",
    "    \"\"\"\n",
    "    return [item for item in seq if item % 2 == 0]\n",
    "\n",
    "\n",
    "import doctest\n",
    "doctest.testmod()\n",
    "        "
   ]
  },
  {
   "cell_type": "markdown",
   "metadata": {},
   "source": [
    "## [Exceptions](https://docs.python.org/2/tutorial/errors.html)\n",
    "\n",
    "Read about Exceptions in Python and how to handle them (through section 8.4).\n",
    "\n",
    "Advanced (optional): Check out [context managers](https://docs.python.org/2/reference/datamodel.html#context-managers) and the ['''with''' statement](https://www.python.org/dev/peps/pep-0343/)."
   ]
  },
  {
   "cell_type": "markdown",
   "metadata": {},
   "source": [
    "Exceptions are errors detected during execution and are usually not unconditionally fatal. However, they will end your program with error messages most of the time, informing you of the type of error and details.\n",
    "\n",
    "However! You can HANDLE exceptions! With try/except methods, you can try a thing and then do something else if it isn't valid! The try statement might have more than one except clause for different exceptions. Only one of these will be executed at a time. One exception clause might have multiple errors listed in a tuple.\n",
    "\n",
    "You can also end the try/except with an else, which means that the code within must be executed if the try clause doesn't make an exception. Having less in the try clause means that you'll avoid accidentally catching an exception that wasn't the focus of the try/except.\n",
    "\n",
    "Exception handlers will handle anything--indirect or direct--that occurs during the try clause.\n",
    "\n",
    "'raise' lets you force an exception to occur. You can also use it on its own to re-raise an exception if you don't actually need to define it.\n",
    "\n",
    "Classes inheriting from the Exception class lets you define your own exceptions!\n",
    "\n",
    "try statements can also end in finally clauses (try: finally:) which is always executed before leaving the try statement, whether there was an exception or not. except or else clauses might still happen, but the whole thing will end. This can be used to close files or release external resources.\n",
    "\n",
    "with works to close a file after it has been used. Use as:\n",
    "\n",
    "with open(\"myfile.txt\") as f:\n",
    "\n",
    "    do stuff\n",
    "\n",
    "    do more stuff\n",
    "    \n",
    "And you're done!"
   ]
  },
  {
   "cell_type": "markdown",
   "metadata": {
    "is_question": true,
    "problem": "Exercise 19.2"
   },
   "source": [
    "### Exercise 2 \n",
    "\n",
    "Complete the following function using an exception handler. How else might you implement it?"
   ]
  },
  {
   "cell_type": "code",
   "execution_count": 29,
   "metadata": {
    "collapsed": false,
    "solution": "Exercise 19.2"
   },
   "outputs": [],
   "source": [
    "names = {\"Paul\": \"Ruvolo\", \"Oliver\": \"Steele\", \"Ben\": \"Hill\"}\n",
    "\n",
    "def formal_greeting(first_name, name_dict):\n",
    "    \"\"\"\n",
    "    Greet SoftDes professors by last name, and strangers with some skepticism.\n",
    "    \n",
    "    >>> formal_greeting(\"Oliver\", names)\n",
    "    Hello, Professor Steele!\n",
    "    >>> formal_greeting(\"Jasper\", names)\n",
    "    Howdy, stranger!\n",
    "    \"\"\"\n",
    "    try:\n",
    "        print \"Hello, Professor {}!\".format(name_dict[first_name])\n",
    "    except KeyError:\n",
    "        print \"Howdy, stranger!\"\n",
    "    \n",
    "\n",
    "doctest.run_docstring_examples(formal_greeting, globals())    "
   ]
  },
  {
   "cell_type": "markdown",
   "metadata": {
    "is_poll": true,
    "is_question": true,
    "problem": "Time spent"
   },
   "source": [
    "## Quick poll\n",
    "About how long did you spend working on this Reading Journal?"
   ]
  },
  {
   "cell_type": "markdown",
   "metadata": {},
   "source": [
    "About 1.5 hours"
   ]
  },
  {
   "cell_type": "markdown",
   "metadata": {
    "poll_response": true,
    "solution": "Time spent"
   },
   "source": [
    " "
   ]
  },
  {
   "cell_type": "markdown",
   "metadata": {
    "is_question": true,
    "problem": "Feedback"
   },
   "source": [
    "## Reading Journal feedback\n",
    "\n",
    "Have any comments on this Reading Journal? Feel free to leave them below and we'll read them when you submit your journal entry. This could include suggestions to improve the exercises, topics you'd like to see covered in class next time, or other feedback.\n",
    "\n",
    "If you have Python questions or run into problems while completing the reading, you should post them to Piazza instead so you can get a quick response before your journal is submitted."
   ]
  },
  {
   "cell_type": "markdown",
   "metadata": {
    "feedback_response": true,
    "solution": "Feedback"
   },
   "source": [
    " "
   ]
  }
 ],
 "metadata": {
  "kernelspec": {
   "display_name": "Python 2",
   "language": "python",
   "name": "python2"
  },
  "language_info": {
   "codemirror_mode": {
    "name": "ipython",
    "version": 2
   },
   "file_extension": ".py",
   "mimetype": "text/x-python",
   "name": "python",
   "nbconvert_exporter": "python",
   "pygments_lexer": "ipython2",
   "version": "2.7.6"
  }
 },
 "nbformat": 4,
 "nbformat_minor": 0
}
