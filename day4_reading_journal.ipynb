{
 "cells": [
  {
   "cell_type": "markdown",
   "metadata": {},
   "source": [
    "# Day 4 Reading Journal\n",
    "\n",
    "This journal includes several required exercises, but it is meant to encourage active reading more generally.  You should use the journal to take detailed notes, catalog questions, and explore the content from Think Python deeply.\n",
    "\n",
    "Reading: Think Python Chapter 10\n",
    "\n",
    "**Due: Thursday, February 4 at 12 noon**\n",
    "\n"
   ]
  },
  {
   "cell_type": "markdown",
   "metadata": {},
   "source": [
    "## [Chapter 10](http://www.greenteapress.com/thinkpython/html/thinkpython011.html)\n",
    "\n",
    "You may want to review [state diagrams in Chapter 2](http://www.greenteapress.com/thinkpython/html/thinkpython003.html#toc13). [Python Tutor](http://pythontutor.com/) is also helpful for visualizing the state of your program.\n",
    "\n"
   ]
  },
  {
   "cell_type": "markdown",
   "metadata": {},
   "source": [
    "### Exercise 4  \n",
    "Write a function called `middle` that takes a list and returns a new list that contains all but the first and last elements. So `middle([1,2,3,4])` should return `[2,3]`."
   ]
  },
  {
   "cell_type": "code",
   "execution_count": 6,
   "metadata": {
    "collapsed": false
   },
   "outputs": [
    {
     "name": "stdout",
     "output_type": "stream",
     "text": [
      "[2, 3]\n",
      "[1, 2, 3, 4]\n"
     ]
    }
   ],
   "source": [
    "def middle(first_list):\n",
    "    \"\"\"\n",
    "    Takes a list and returns all but the first and the last elements.\n",
    "    \"\"\"\n",
    "    last_index = len(first_list) - 1\n",
    "    new_list = first_list[1:last_index] #this all could be one line but I like readability\n",
    "    return new_list\n",
    "\n",
    "my_list = [1,2,3,4]\n",
    "print middle(my_list)\n",
    "print my_list"
   ]
  },
  {
   "cell_type": "markdown",
   "metadata": {},
   "source": [
    "### Exercise 5  \n",
    "Write a function called `chop` that takes a list, modifies it by removing the first and last elements, and returns `None`.\n",
    "\n",
    "What is the difference between `middle` and `chop`? Sketch out the program state or take a look at each in Python Tutor."
   ]
  },
  {
   "cell_type": "code",
   "execution_count": 4,
   "metadata": {
    "collapsed": false
   },
   "outputs": [
    {
     "name": "stdout",
     "output_type": "stream",
     "text": [
      "[2, 3]\n",
      "[2, 3]\n"
     ]
    }
   ],
   "source": [
    "def chop(first_list):\n",
    "    \"\"\"\n",
    "    Modifies a list by removing the first and last element\n",
    "    \"\"\"\n",
    "    last_index = len(first_list) - 1\n",
    "    del first_list[last_index]\n",
    "    del first_list[0]\n",
    "    print first_list\n",
    "\n",
    "my_list = [1,2,3,4]\n",
    "chop(my_list)\n",
    "print my_list"
   ]
  },
  {
   "cell_type": "markdown",
   "metadata": {},
   "source": [
    "So, the printing out of 'my_list' on both after running the function shows the difference. 'chop' actually alters the original list. 'middle' makes a new list and leaves 'my_list' unaffected."
   ]
  },
  {
   "cell_type": "markdown",
   "metadata": {},
   "source": [
    "### Exercise 7  \n",
    "Two words are anagrams if you can rearrange the letters from one to spell the other. Write a function called `is_anagram` that takes two strings and returns `True` if they are anagrams."
   ]
  },
  {
   "cell_type": "code",
   "execution_count": 11,
   "metadata": {
    "collapsed": false
   },
   "outputs": [
    {
     "name": "stdout",
     "output_type": "stream",
     "text": [
      "True\n",
      "False\n"
     ]
    }
   ],
   "source": [
    "def is_anagram(word1, word2):\n",
    "    \"\"\"\n",
    "    Takes 2 words and checks to see if they are anagrams\n",
    "    >>> is_anagram('lived', 'devil')\n",
    "    True\n",
    "    \"\"\"\n",
    "    for letter in word1:\n",
    "        if letter not in word2:\n",
    "            return False\n",
    "    for letter in word2:\n",
    "        if letter not in word1:\n",
    "            return False\n",
    "    return True\n",
    "\n",
    "print is_anagram('lived','devil')\n",
    "print is_anagram('right', 'wright')"
   ]
  },
  {
   "cell_type": "markdown",
   "metadata": {},
   "source": [
    "### Exercise 8  \n",
    "The (so-called) Birthday Paradox:\n",
    "1. Write a function called `has_duplicates` that takes a list and returns `True` if there is any element that appears more than once. It should not modify the original list.\n",
    "2. If there are 23 students in your class, what are the chances that two of you have the same birthday? You can estimate this probability by generating random samples of 23 birthdays and checking for matches. Hint: you can generate random birthdays with the randint function in the [random module](https://docs.python.org/2/library/random.html).\n",
    "\n",
    "You can read about this problem at http://en.wikipedia.org/wiki/Birthday_paradox, and you can download Allen's solution from http://thinkpython.com/code/birthday.py."
   ]
  },
  {
   "cell_type": "code",
   "execution_count": 40,
   "metadata": {
    "collapsed": false
   },
   "outputs": [
    {
     "name": "stdout",
     "output_type": "stream",
     "text": [
      "True\n",
      "False\n",
      "False\n",
      "There is a 49.2% chance you will share a birthday with someone else in the class.\n"
     ]
    }
   ],
   "source": [
    "def has_duplicates(my_list):\n",
    "    \"\"\"\n",
    "    Checks for duplicates in a list\n",
    "    \"\"\"\n",
    "    for i in range(len(my_list)):\n",
    "        if my_list[i] in my_list[i + 1:]:\n",
    "            return True\n",
    "    return False\n",
    "\n",
    "def make_random_bday_list(number_needed):\n",
    "    \"\"\"\n",
    "    Generates random dates\n",
    "    \"\"\"\n",
    "    import random\n",
    "    bday_list = []\n",
    "    for i in range(number_needed):\n",
    "        bday = random.randint(1,365)\n",
    "        bday_list.append(bday)\n",
    "    return bday_list\n",
    "\n",
    "def find_bday_sharing_prob(accuracy, number_bdays):\n",
    "    i = 0\n",
    "    trues = 0.0\n",
    "    while i < accuracy:\n",
    "        bday_list = make_random_bday_list(number_bdays)\n",
    "        result = has_duplicates(bday_list)\n",
    "        if result == True:\n",
    "            trues += 1\n",
    "        i += 1\n",
    "    print \"There is a \" + str((trues / accuracy) * 100) + \"% chance you will share a birthday with someone else in the class.\"\n",
    "    \n",
    "print has_duplicates([2,4,5,2,7,9,4,7,8])\n",
    "print has_duplicates([2,4,5,7,9,8])\n",
    "\n",
    "bday_list = make_random_bday_list(23)\n",
    "print has_duplicates(bday_list)\n",
    "find_bday_sharing_prob(1000, 23)"
   ]
  },
  {
   "cell_type": "markdown",
   "metadata": {},
   "source": [
    "### Challenge: Exercise 11 (optional)\n",
    "\n",
    "You should read [Chapter 9.1](http://www.greenteapress.com/thinkpython/html/thinkpython010.html) and do Exercise 1 first.\n",
    "\n",
    "To check whether a word is in the word list, you could use the `in` operator, but it would be relatively slow because it searches through the words in order (try it).\n",
    "\n",
    "Because the words are in alphabetical order, we can speed things up with a bisection search (also known as binary search), which is similar to what you do when you look a word up in the dictionary. You start in the middle and check to see whether the word you are looking for comes before the word in the middle of the list. If so, then you search the first half of the list the same way. Otherwise you search the second half.\n",
    "\n",
    "Either way, you cut the remaining search space in half. If the word list has 113,809 words, it will take about 17 steps to find the word or conclude that it’s not there.\n",
    "\n",
    "Write a function called `bisect` that takes a sorted list and a target value and returns the index of the value in the list, if it’s there, or `None` if it’s not.\n",
    "\n",
    "Or you could read the documentation of the `bisect` module and use that! Solution: http://thinkpython.com/code/inlist.py."
   ]
  },
  {
   "cell_type": "code",
   "execution_count": 62,
   "metadata": {
    "collapsed": false
   },
   "outputs": [
    {
     "name": "stdout",
     "output_type": "stream",
     "text": [
      "counterdemonstrations\n"
     ]
    }
   ],
   "source": [
    "def print_longer_than(num_characters):\n",
    "    fin = open('words.txt')\n",
    "    for line in fin:\n",
    "        word = line.strip()\n",
    "        if len(word) > num_characters:\n",
    "            print word\n",
    "\n",
    "#print_longer_than(20)\n",
    "\n",
    "def make_word_list():\n",
    "    fin = open('words.txt')\n",
    "    word_list = []\n",
    "    for line in fin:\n",
    "        word = line.strip()\n",
    "        word_list.append(word)\n",
    "    return word_list\n",
    "\n",
    "def find_word(word, word_list):\n",
    "    \"\"\"\n",
    "    This code gives you the index of the word in the original list\n",
    "        using bisections.\n",
    "    \"\"\"\n",
    "    search_list = word_list[:] # copies the word list without aliasing it\n",
    "    front_cut = 0 # number of words cut from in front of the word\n",
    "    while len(search_list) > 1:\n",
    "        mid_word = len(search_list)/2\n",
    "        if search_list[mid_word] == word:\n",
    "            return mid_word + front_cut\n",
    "        elif search_list[mid_word] > word:\n",
    "            search_list = search_list[:mid_word]\n",
    "        else:\n",
    "            front_cut += mid_word\n",
    "            search_list = search_list[mid_word:]\n",
    "    return None\n",
    "        \n",
    "words = make_word_list()\n",
    "index = find_word('counterdemonstrations', words)\n",
    "if index != None:\n",
    "    print words[index]"
   ]
  },
  {
   "cell_type": "markdown",
   "metadata": {},
   "source": [
    "## Reading Journal feedback\n",
    "\n",
    "Have any comments on this Reading Journal? Feel free to leave them below and we'll read them when you submit your journal entry. This could include suggestions to improve the exercises, topics you'd like to see covered in class next time, or other feedback.\n",
    "\n",
    "If you have Python questions or run into problems while completing the reading, you should post them to Piazza instead so you can get a quick response before your journal is submitted."
   ]
  },
  {
   "cell_type": "markdown",
   "metadata": {},
   "source": [
    " "
   ]
  }
 ],
 "metadata": {
  "kernelspec": {
   "display_name": "Python 2",
   "language": "python",
   "name": "python2"
  },
  "language_info": {
   "codemirror_mode": {
    "name": "ipython",
    "version": 2
   },
   "file_extension": ".py",
   "mimetype": "text/x-python",
   "name": "python",
   "nbconvert_exporter": "python",
   "pygments_lexer": "ipython2",
   "version": "2.7.6"
  }
 },
 "nbformat": 4,
 "nbformat_minor": 0
}
