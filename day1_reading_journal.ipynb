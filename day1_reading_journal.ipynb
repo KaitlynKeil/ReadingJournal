{
 "cells": [
  {
   "cell_type": "markdown",
   "metadata": {},
   "source": [
    "# Day 1 Reading Journal\n",
    "\n",
    "Hi everyone.  These are the exercises for the first set of readings from ThinkPython.  While this journal consists of several required exercises, it is meant to encourage active reading more generally.  You should use this journal to take detailed notes, catalog questions, and explore the content from ThinkPython deeply.\n",
    "\n",
    "For more information on using the Jupyter notebook, check out the documentation [here](http://nbviewer.jupyter.org/github/jupyter/notebook/blob/master/docs/source/examples/Notebook/Examples%20and%20Tutorials%20Index.ipynb).  Additionally, in order to write text in this document, you will be making use of markdown cells. A handy cheatsheet for markdown is available [here](https://github.com/adam-p/markdown-here/wiki/Markdown-Cheatsheet)."
   ]
  },
  {
   "cell_type": "markdown",
   "metadata": {},
   "source": [
    "## Chapter 1\n",
    "\n",
    "Note: the exercise numbers below match up with the reading for ease of cross referencing."
   ]
  },
  {
   "cell_type": "markdown",
   "metadata": {},
   "source": [
    "2 programs process high-level to low-level:\n",
    "1. interpreters--read and execute your code, a little at a time\n",
    "2. compliers--read the high-level SOURCE CODE and translate it completely into the OBJECT CODE/EXECUTABLE before running\n",
    "\n",
    "Python = interpreted language\n",
    "2 modes:\n",
    "1. interactive mode: with the >>> prompt, runs as you go. Good for small testing\n",
    "2. script mode: stores code in a file and execute the contets of the file. File name ends with .py  Good for code more than a few lines/reusable\n",
    "\n",
    "#### Errors (so fun)\n",
    "1. syntax--typos bleh\n",
    "2. runtime/exceptions--something weird went wrong\n",
    "3. semantic--it /did/ something, just not the thing you wanted\n",
    "\n",
    "#### Languages\n",
    "Natural language: what we speak\n",
    "Formal language: designed fore specific applications. like programming. didn't see that coming.\n",
    "\n",
    "Tokens are basic elements of structure, ie words and numbers\n",
    "Structure is the way a statement is arranged.\n",
    "Both can be syntax errors\n",
    "\n",
    "parsing is figuring out what a statement means\n",
    "\n",
    "ambiguity: natural languages have tons. formal really shouldn't\n",
    "redundancy: natural languages are really very redundant and quite wordy, particularly if I'm talking. formal shouldn't be.\n",
    "\n",
    "literalness: the sky will fall before I understand why we use literally the way we do in natural English language. formal langagues don't do the thing"
   ]
  },
  {
   "cell_type": "markdown",
   "metadata": {},
   "source": [
    "### Exercise 3\n",
    "\n",
    "Type `help()` to start the online help utility. Or you can type help('print') to get information about the print statement.  You should type `q` and then hit `enter` in the text box to exit the help utility. \n",
    "\n",
    "Note: this exercise is pretty simple (and there's not much to put in the box)!  We just want to make sure that you have tried out this super-handy feature of Python!"
   ]
  },
  {
   "cell_type": "code",
   "execution_count": 1,
   "metadata": {
    "collapsed": false
   },
   "outputs": [
    {
     "name": "stdout",
     "output_type": "stream",
     "text": [
      "\n",
      "Welcome to Python 2.7!  This is the online help utility.\n",
      "\n",
      "If this is your first time using Python, you should definitely check out\n",
      "the tutorial on the Internet at http://docs.python.org/2.7/tutorial/.\n",
      "\n",
      "Enter the name of any module, keyword, or topic to get help on writing\n",
      "Python programs and using Python modules.  To quit this help utility and\n",
      "return to the interpreter, just type \"quit\".\n",
      "\n",
      "To get a list of available modules, keywords, or topics, type \"modules\",\n",
      "\"keywords\", or \"topics\".  Each module also comes with a one-line summary\n",
      "of what it does; to list the modules whose summaries contain a given word\n",
      "such as \"spam\", type \"modules spam\".\n",
      "\n",
      "help> print\n",
      "The ``print`` statement\n",
      "***********************\n",
      "\n",
      "   print_stmt ::= \"print\" ([expression (\",\" expression)* [\",\"]]\n",
      "                  | \">>\" expression [(\",\" expression)+ [\",\"]])\n",
      "\n",
      "``print`` evaluates each expression in turn and writes the resulting\n",
      "object to standard output (see below).  If an object is not a string,\n",
      "it is first converted to a string using the rules for string\n",
      "conversions.  The (resulting or original) string is then written.  A\n",
      "space is written before each object is (converted and) written, unless\n",
      "the output system believes it is positioned at the beginning of a\n",
      "line.  This is the case (1) when no characters have yet been written\n",
      "to standard output, (2) when the last character written to standard\n",
      "output is a whitespace character except ``' '``, or (3) when the last\n",
      "write operation on standard output was not a ``print`` statement. (In\n",
      "some cases it may be functional to write an empty string to standard\n",
      "output for this reason.)\n",
      "\n",
      "Note: Objects which act like file objects but which are not the built-in\n",
      "  file objects often do not properly emulate this aspect of the file\n",
      "  object's behavior, so it is best not to rely on this.\n",
      "\n",
      "A ``'\\n'`` character is written at the end, unless the ``print``\n",
      "statement ends with a comma.  This is the only action if the statement\n",
      "contains just the keyword ``print``.\n",
      "\n",
      "Standard output is defined as the file object named ``stdout`` in the\n",
      "built-in module ``sys``.  If no such object exists, or if it does not\n",
      "have a ``write()`` method, a ``RuntimeError`` exception is raised.\n",
      "\n",
      "``print`` also has an extended form, defined by the second portion of\n",
      "the syntax described above. This form is sometimes referred to as\n",
      "\"``print`` chevron.\" In this form, the first expression after the\n",
      "``>>`` must evaluate to a \"file-like\" object, specifically an object\n",
      "that has a ``write()`` method as described above.  With this extended\n",
      "form, the subsequent expressions are printed to this file object.  If\n",
      "the first expression evaluates to ``None``, then ``sys.stdout`` is\n",
      "used as the file for output.\n",
      "\n",
      "help> q\n",
      "\n",
      "You are now leaving help and returning to the Python interpreter.\n",
      "If you want to ask for help on a particular object directly from the\n",
      "interpreter, you can type \"help(object)\".  Executing \"help('string')\"\n",
      "has the same effect as typing a particular string at the help> prompt.\n",
      "The ``print`` statement\n",
      "***********************\n",
      "\n",
      "   print_stmt ::= \"print\" ([expression (\",\" expression)* [\",\"]]\n",
      "                  | \">>\" expression [(\",\" expression)+ [\",\"]])\n",
      "\n",
      "``print`` evaluates each expression in turn and writes the resulting\n",
      "object to standard output (see below).  If an object is not a string,\n",
      "it is first converted to a string using the rules for string\n",
      "conversions.  The (resulting or original) string is then written.  A\n",
      "space is written before each object is (converted and) written, unless\n",
      "the output system believes it is positioned at the beginning of a\n",
      "line.  This is the case (1) when no characters have yet been written\n",
      "to standard output, (2) when the last character written to standard\n",
      "output is a whitespace character except ``' '``, or (3) when the last\n",
      "write operation on standard output was not a ``print`` statement. (In\n",
      "some cases it may be functional to write an empty string to standard\n",
      "output for this reason.)\n",
      "\n",
      "Note: Objects which act like file objects but which are not the built-in\n",
      "  file objects often do not properly emulate this aspect of the file\n",
      "  object's behavior, so it is best not to rely on this.\n",
      "\n",
      "A ``'\\n'`` character is written at the end, unless the ``print``\n",
      "statement ends with a comma.  This is the only action if the statement\n",
      "contains just the keyword ``print``.\n",
      "\n",
      "Standard output is defined as the file object named ``stdout`` in the\n",
      "built-in module ``sys``.  If no such object exists, or if it does not\n",
      "have a ``write()`` method, a ``RuntimeError`` exception is raised.\n",
      "\n",
      "``print`` also has an extended form, defined by the second portion of\n",
      "the syntax described above. This form is sometimes referred to as\n",
      "\"``print`` chevron.\" In this form, the first expression after the\n",
      "``>>`` must evaluate to a \"file-like\" object, specifically an object\n",
      "that has a ``write()`` method as described above.  With this extended\n",
      "form, the subsequent expressions are printed to this file object.  If\n",
      "the first expression evaluates to ``None``, then ``sys.stdout`` is\n",
      "used as the file for output.\n",
      "\n"
     ]
    }
   ],
   "source": [
    "help()\n",
    "help('print')"
   ]
  },
  {
   "cell_type": "markdown",
   "metadata": {},
   "source": [
    "### Exercise 4  \n",
    "\n",
    "Start the Python interpreter and use it as a calculator. Python’s syntax for math operations is almost the same as standard mathematical notation. For example, the symbols +, - and / denote addition, subtraction and division, as you would expect. The symbol for multiplication is *.\n",
    "\n",
    "If you run a 10 kilometer race in 43 minutes 30 seconds, what is your average time per mile? What is your average speed in miles per hour? (Hint: there are 1.61 kilometers in a mile). "
   ]
  },
  {
   "cell_type": "code",
   "execution_count": 10,
   "metadata": {
    "collapsed": false
   },
   "outputs": [
    {
     "name": "stdout",
     "output_type": "stream",
     "text": [
      "The Average Time per Mile is: 7.00 minutes per mile\n"
     ]
    }
   ],
   "source": [
    "miles = 10 / 1.61 #convert km to miles\n",
    "hours = 43.5 / 60 #convert minutes to hours\n",
    "TimePerMi = 43.5 / miles #average time per mile\n",
    "print 'The Average Time per Mile is: %.2f minutes per mile' %TimePerMi\n"
   ]
  },
  {
   "cell_type": "code",
   "execution_count": 9,
   "metadata": {
    "collapsed": false
   },
   "outputs": [
    {
     "name": "stdout",
     "output_type": "stream",
     "text": [
      "The Average Speed is: 8.57 mph\n"
     ]
    }
   ],
   "source": [
    "miles = 10 / 1.61 #convert km to miles\n",
    "hours = 43.5 / 60 #convert minutes to hours\n",
    "mph = miles / hours #average speed\n",
    "print 'The Average Speed is: %.2f mph' %mph"
   ]
  },
  {
   "cell_type": "markdown",
   "metadata": {},
   "source": [
    "## Chapter 2"
   ]
  },
  {
   "cell_type": "markdown",
   "metadata": {},
   "source": [
    "### Values\n",
    "have different types. 3 of the main ones are\n",
    "1. int--integers are whole numbers\n",
    "2. float--floating-points are numbers with decimal points\n",
    "3. str--strings are formatted like 'this' and can be words or numbers, but are not treated like numbers.\n",
    "\n",
    "Values can have names, called VARIABLES, assigned by--you guessed it--assignment statements.\n",
    "\n",
    "You cannot name a variable with a keyword. There are 31:\n",
    "and  as  assert  break  class  continue  def\n",
    "del  elif  else  except  exec  finally  for\n",
    "from  global  if  import  in  is  lambda\n",
    "not  or  pass  print  raise  return  try\n",
    "while  with  yield\n",
    "\n",
    "\n",
    "### Math Stuffs\n",
    "Operators are pretty much typical, except exponents are '**' instead of '^'\n",
    "\n",
    "Python 2 performs floor division. If both operands are integers, the result will be as well, but chopped instead of rounded. If either of the operands is a float, the result will be a float.\n",
    "\n",
    "### Displaying things\n",
    "Python doesn't display assignment statements like MatLab, and in scripts, you have to specify 'print miles * 1.61' to make it print kilometers.\n",
    "\n",
    "### Strings\n",
    "If you add two strings together, like:\n",
    "first = 'Hello '\n",
    "second = 'World!'\n",
    "greeting = first + second\n",
    "print greeting\n",
    "Hello World!\n",
    "\n",
    "using '*' will multiply strings, so 'ugh'$*3$ is 'ughughugh'"
   ]
  },
  {
   "cell_type": "markdown",
   "metadata": {},
   "source": [
    "### Exercise 2  \n",
    "\n",
    "Assume that we execute the following assignment statements:\n",
    "\n",
    "width = 17\n",
    "height = 12.0\n",
    "delimiter = '.'\n",
    "\n",
    "For each of the following expressions, write the value of the expression and the type (of the value of the expression).\n",
    "\n",
    "1. `width/2`\n",
    "2. `width/2.0`\n",
    "3. `height/3`\n",
    "4. `1 + 2 * 5`\n",
    "5. `delimiter * 5`\n",
    "\n",
    "Please use the following markdown cell to provide your answer."
   ]
  },
  {
   "cell_type": "markdown",
   "metadata": {},
   "source": [
    "1. 8, due to it cutting 8.5 off at the decimal\n",
    "2. 8.5, since 2.0 is a float\n",
    "3. 4.0\n",
    "4. 11\n",
    "5. ....."
   ]
  },
  {
   "cell_type": "markdown",
   "metadata": {},
   "source": [
    "### Exercise 3  \n",
    "\n",
    "Practice using the Python interpreter as a calculator.  For each of these provide Python code that computes each answer.\n",
    "\n",
    "    \n"
   ]
  },
  {
   "cell_type": "markdown",
   "metadata": {},
   "source": [
    "The volume of a sphere with radius r is 4/3 $\\pi r^3$. What is the volume of a sphere with radius 5? Hint: 392.7 is wrong!"
   ]
  },
  {
   "cell_type": "code",
   "execution_count": 11,
   "metadata": {
    "collapsed": false
   },
   "outputs": [
    {
     "name": "stdout",
     "output_type": "stream",
     "text": [
      "392.699081699\n"
     ]
    }
   ],
   "source": [
    "r = 5\n",
    "import math\n",
    "volume = (4/3) * math.pi * r**3\n",
    "print volume"
   ]
  },
  {
   "cell_type": "markdown",
   "metadata": {},
   "source": [
    "Suppose the cover price of a book is \\$24.95, but bookstores get a 40% discount. Shipping costs \\$3 for the first copy and 75 cents for each additional copy. What is the total wholesale cost for 60 copies?"
   ]
  },
  {
   "cell_type": "code",
   "execution_count": 16,
   "metadata": {
    "collapsed": false
   },
   "outputs": [
    {
     "name": "stdout",
     "output_type": "stream",
     "text": [
      "$945.45 for 60 books\n"
     ]
    }
   ],
   "source": [
    "bookPrice = 24.95\n",
    "BSPrice = bookPrice - (.4 * bookPrice)\n",
    "booksOrdered = 60\n",
    "addonShipping = .75 * (booksOrdered - 1)\n",
    "shippingPrice = 3 + addonShipping\n",
    "totalCost = BSPrice * booksOrdered + shippingPrice\n",
    "print '$' + str(totalCost) + ' for ' + str(booksOrdered) + ' books'"
   ]
  },
  {
   "cell_type": "markdown",
   "metadata": {},
   "source": [
    "If I leave my house at 6:52 am and run 1 mile at an easy pace (8:15 per mile), then 3 miles at tempo (7:12 per mile) and 1 mile at easy pace again, what time do I get home for breakfast? "
   ]
  },
  {
   "cell_type": "code",
   "execution_count": 22,
   "metadata": {
    "collapsed": false
   },
   "outputs": [
    {
     "name": "stdout",
     "output_type": "stream",
     "text": [
      "You get home at 7:30 am.\n"
     ]
    }
   ],
   "source": [
    "fastMile = 3 * (7 + 12.0/60) #converts to minutes so that computation is faster\n",
    "slowMile = 2 * (8 + 15.0/60)\n",
    "totalTimeM = fastMile + slowMile\n",
    "startTime = 6 * 60 + 52\n",
    "endTimeM = startTime + totalTimeM\n",
    "endTimeH = int(endTimeM) / 60\n",
    "endMinute = int(endTimeM - endTimeH * 60)\n",
    "print 'You get home at ' + str(endTimeH) + ':' + str(endMinute) + ' am.'"
   ]
  },
  {
   "cell_type": "markdown",
   "metadata": {},
   "source": [
    "## Chapter 3"
   ]
  },
  {
   "cell_type": "markdown",
   "metadata": {},
   "source": [
    "the function 'int()' will take any string that is a number and convert it into the corresponding integer, or chop off the floating-point values of a float.\n",
    "the function 'float()' does the opposite.\n",
    "'str()' turns things into a string\n",
    "\n",
    "### Modules\n",
    "A module is a file holding a bunch of related functions, such as 'math.' You have to import them, like I did above to use pi. So, 'import math' creates a module object, called math. print math displays info about the module.\n",
    "You can use it by doing things like math.pi, called dot notation\n",
    "\n",
    "You can also only import a particular object, by doing something like:\n",
    "'from math import pi'\n",
    "You now have pi, but not pie.\n",
    "(sorry)\n",
    "'from math import $*$' gets all of it, so you don't need dot notation. Know your modules so that this doesn't make conflicting variables due to names.\n",
    "\n",
    "### Adding functions\n",
    "def funcName():\n",
    "    commandshere\n",
    "    \n",
    "leave the parentheses empty to indicate it takes no arguments. def means you're defining a function.\n",
    "\n",
    "That first line is the header, the rest is the body. The header ends in a : and the body MUST be indented. There's no 'end', so as long as it is indented, it's part of the most recent header.\n",
    "\n",
    "... means you're in interactive mode and the function isn't complete.\n",
    "\n",
    "defining a function means you have a variable with the same name. The type is (duh) function, and it can then be called.\n",
    "\n",
    "'Fruitful functions' yield a result, 'void functions' do not. Assigning a variable to a void function will yield a NoneType variable.\n",
    "\n",
    "Use functions to:\n",
    "1. make your program easier to read/debug by naming a function\n",
    "2. eliminate repetitive code\n",
    "3. make building blocks\n",
    "4. reuse building blocks\n",
    "\n",
    "#### Flow of Execution\n",
    "Make sure you know it. Then you'll know when you need to define functions. Read according to it, since functions are like detours.\n",
    "\n",
    "#### Stack Diagrams\n",
    "Useful tool. Show value of variables and what function they belong to. A frame represents the function, and the order represents which function called which, in descending order.\n",
    "\n",
    "Python will basically do this in a traceback when it incurs an error."
   ]
  },
  {
   "cell_type": "markdown",
   "metadata": {},
   "source": [
    "### Exercise 3\n",
    "\n",
    "Python provides a built-in function called len that returns the length of a string, so the value of len('allen') is 5.\n",
    "Write a function named right_justify that takes a string named s as a parameter and prints the string with enough leading spaces so that the last letter of the string is in column 70 of the display.\n",
    "\n",
    "```\n",
    ">>> right_justify('allen')\n",
    "                                                                 allen```"
   ]
  },
  {
   "cell_type": "code",
   "execution_count": 30,
   "metadata": {
    "collapsed": false
   },
   "outputs": [
    {
     "name": "stdout",
     "output_type": "stream",
     "text": [
      "                                                                     allen\n"
     ]
    }
   ],
   "source": [
    "def right_justify(s):\n",
    "    spaces = 70\n",
    "    strLen = len('s')\n",
    "    justify = (spaces - strLen) * ' '\n",
    "    print justify + s\n",
    "    \n",
    "right_justify('allen')"
   ]
  },
  {
   "cell_type": "markdown",
   "metadata": {},
   "source": [
    "### Exercise 5\n",
    "\n",
    "This exercise can be done using only the statements and other features we have learned so far.\n",
    "\n",
    "(a) Write a function that draws a grid like the following:\n",
    "```\n",
    "+ - - - - + - - - - +\n",
    "|         |         |\n",
    "|         |         |\n",
    "|         |         |\n",
    "|         |         |\n",
    "+ - - - - + - - - - +\n",
    "|         |         |\n",
    "|         |         |\n",
    "|         |         |\n",
    "|         |         |\n",
    "+ - - - - + - - - - +\n",
    "```\n",
    "**Hint:** to print more than one value on a line, you can print a comma-separated sequence:\n",
    "print '+', '-'\n",
    "If the sequence ends with a comma, Python leaves the line unfinished, so the value printed next appears on the same line.\n",
    "print '+', \n",
    "print '-'\n",
    "The output of these statements is '+ -'.\n",
    "A print statement all by itself ends the current line and goes to the next line."
   ]
  },
  {
   "cell_type": "code",
   "execution_count": 33,
   "metadata": {
    "collapsed": false
   },
   "outputs": [
    {
     "name": "stdout",
     "output_type": "stream",
     "text": [
      "+ - - - - + - - - - +\n",
      "|         |         |\n",
      "|         |         |\n",
      "|         |         |\n",
      "|         |         |\n",
      "+ - - - - + - - - - +\n",
      "|         |         |\n",
      "|         |         |\n",
      "|         |         |\n",
      "|         |         |\n",
      "+ - - - - + - - - - +\n"
     ]
    }
   ],
   "source": [
    "def pIntersec():\n",
    "    # prints an intersection point\n",
    "    print '+',\n",
    "    \n",
    "def pHLine():\n",
    "    # prints a horizontal line segment\n",
    "    print '- - - -',\n",
    "    \n",
    "def newLine():\n",
    "    print\n",
    "    \n",
    "def pVerLine():\n",
    "    # prints a vertical line\n",
    "    print '|',\n",
    "    \n",
    "def pEmptySpace():\n",
    "    # creates the inner empty space\n",
    "    print '       ',\n",
    "    \n",
    "def gridRow(f,g):\n",
    "    # prints one row of the grid\n",
    "    f()\n",
    "    g()\n",
    "    f()\n",
    "    g()\n",
    "    f()\n",
    "    newLine()\n",
    "    \n",
    "def insideCell():\n",
    "    gridRow(pVerLine,pEmptySpace)\n",
    "    gridRow(pVerLine,pEmptySpace)\n",
    "    gridRow(pVerLine,pEmptySpace)\n",
    "    gridRow(pVerLine,pEmptySpace)\n",
    "\n",
    "def printGrid():\n",
    "    gridRow(pIntersec,pHLine)\n",
    "    insideCell()\n",
    "    gridRow(pIntersec,pHLine)\n",
    "    insideCell()\n",
    "    gridRow(pIntersec,pHLine)\n",
    "    \n",
    "printGrid()"
   ]
  },
  {
   "cell_type": "markdown",
   "metadata": {},
   "source": [
    "(b) Write a function that draws a similar grid with four rows and four columns."
   ]
  },
  {
   "cell_type": "code",
   "execution_count": 34,
   "metadata": {
    "collapsed": false
   },
   "outputs": [
    {
     "name": "stdout",
     "output_type": "stream",
     "text": [
      "+ - - - - + - - - - + - - - - + - - - - +\n",
      "|         |         |         |         |\n",
      "|         |         |         |         |\n",
      "|         |         |         |         |\n",
      "|         |         |         |         |\n",
      "+ - - - - + - - - - + - - - - + - - - - +\n",
      "|         |         |         |         |\n",
      "|         |         |         |         |\n",
      "|         |         |         |         |\n",
      "|         |         |         |         |\n",
      "+ - - - - + - - - - + - - - - + - - - - +\n",
      "|         |         |         |         |\n",
      "|         |         |         |         |\n",
      "|         |         |         |         |\n",
      "|         |         |         |         |\n",
      "+ - - - - + - - - - + - - - - + - - - - +\n",
      "|         |         |         |         |\n",
      "|         |         |         |         |\n",
      "|         |         |         |         |\n",
      "|         |         |         |         |\n",
      "+ - - - - + - - - - + - - - - + - - - - +\n"
     ]
    }
   ],
   "source": [
    "def pIntersec():\n",
    "    # prints an intersection point\n",
    "    print '+',\n",
    "    \n",
    "def pHLine():\n",
    "    # prints a horizontal line segment\n",
    "    print '- - - -',\n",
    "    \n",
    "def newLine():\n",
    "    print\n",
    "    \n",
    "def pVerLine():\n",
    "    # prints a vertical line\n",
    "    print '|',\n",
    "    \n",
    "def pEmptySpace():\n",
    "    # creates the inner empty space\n",
    "    print '       ',\n",
    "    \n",
    "def gridRow(f,g):\n",
    "    # prints one row of the grid\n",
    "    f()\n",
    "    g()\n",
    "    f()\n",
    "    g()\n",
    "    f()\n",
    "    g()\n",
    "    f()\n",
    "    g()\n",
    "    f()\n",
    "    newLine()\n",
    "    \n",
    "def insideCell():\n",
    "    gridRow(pVerLine,pEmptySpace)\n",
    "    gridRow(pVerLine,pEmptySpace)\n",
    "    gridRow(pVerLine,pEmptySpace)\n",
    "    gridRow(pVerLine,pEmptySpace)\n",
    "\n",
    "def printGrid():\n",
    "    gridRow(pIntersec,pHLine)\n",
    "    insideCell()\n",
    "    gridRow(pIntersec,pHLine)\n",
    "    insideCell()\n",
    "    gridRow(pIntersec,pHLine)\n",
    "    insideCell()\n",
    "    gridRow(pIntersec,pHLine)\n",
    "    insideCell()\n",
    "    gridRow(pIntersec,pHLine)\n",
    "    \n",
    "printGrid()"
   ]
  },
  {
   "cell_type": "markdown",
   "metadata": {},
   "source": [
    "I feel lilke I'm probably missing part of the point of this one, since I had to do so many repetative lines. If, instead of printing, I made them into fruitful functions that returned strings, I could multiply the strings instead of repeating, so it might look like:\n",
    "'def drawHorizontal(numberColumns):\n",
    "\n",
    "    cross = '+'\n",
    "    \n",
    "    horz = ' - - - - '\n",
    "    \n",
    "    lineSec = cross + horz\n",
    "    \n",
    "    fullLine = lineSec * numberColumns + cross\n",
    "    \n",
    "    print fullLine'\n",
    "    \n",
    "So that works for the number of columns, but the rows/vertical lines I probably need 'while' or 'for' statements to do. Hm.   \n"
   ]
  },
  {
   "cell_type": "code",
   "execution_count": 38,
   "metadata": {
    "collapsed": false
   },
   "outputs": [
    {
     "name": "stdout",
     "output_type": "stream",
     "text": [
      "+ - - - - + - - - - + - - - - + - - - - +\n",
      "|         |         |         |         |\n",
      "|         |         |         |         |\n",
      "|         |         |         |         |\n",
      "|         |         |         |         |\n",
      "+ - - - - + - - - - + - - - - + - - - - +\n",
      "|         |         |         |         |\n",
      "|         |         |         |         |\n",
      "|         |         |         |         |\n",
      "|         |         |         |         |\n",
      "+ - - - - + - - - - + - - - - + - - - - +\n",
      "|         |         |         |         |\n",
      "|         |         |         |         |\n",
      "|         |         |         |         |\n",
      "|         |         |         |         |\n",
      "+ - - - - + - - - - + - - - - + - - - - +\n",
      "|         |         |         |         |\n",
      "|         |         |         |         |\n",
      "|         |         |         |         |\n",
      "|         |         |         |         |\n",
      "+ - - - - + - - - - + - - - - + - - - - +\n"
     ]
    }
   ],
   "source": [
    "def drawHorizontal(numberColumns):\n",
    "    cross = '+'\n",
    "    horz = ' - - - - '\n",
    "    lineSec = cross + horz\n",
    "    fullLine = lineSec * numberColumns + cross\n",
    "    print fullLine\n",
    "    \n",
    "def drawVertical(numberColumns):\n",
    "    divide = '|'\n",
    "    empty = '         '\n",
    "    cellSec = divide + empty\n",
    "    fullLine = cellSec * numberColumns + divide\n",
    "    print fullLine\n",
    "    \n",
    "def drawRow(numberColumns):\n",
    "    drawHorizontal(numberColumns)\n",
    "    drawVertical(numberColumns)\n",
    "    drawVertical(numberColumns)\n",
    "    drawVertical(numberColumns)\n",
    "    drawVertical(numberColumns)\n",
    "    #since I don't know how to make it return a string here, I'm not sure how \n",
    "    #to multiply the drawn rows by how many rows we want\n",
    "    \n",
    "def drawGrid(numberColumns):\n",
    "    drawRow(numberColumns)\n",
    "    drawRow(numberColumns)\n",
    "    drawRow(numberColumns)\n",
    "    drawRow(numberColumns)\n",
    "    drawHorizontal(numberColumns)\n",
    "    \n",
    "drawGrid(4)"
   ]
  },
  {
   "cell_type": "markdown",
   "metadata": {},
   "source": [
    "## Chapter 5.1 - 5.7"
   ]
  },
  {
   "cell_type": "markdown",
   "metadata": {},
   "source": [
    "A *modulus operator* is the '%' and will give the remainder of the first operand divided by the second. You can use this to check if something is divisble or remove lefthand digits (x%10, x%100, etc. The remaining digits will be wherever the 0s are on the second operand).\n",
    "\n",
    "*boolean expressions* are true/false. They're represented by ==.\n",
    "The *relational operators* are:\n",
    "!=\n",
    ">\n",
    "<\n",
    ">=\n",
    "<=\n",
    "==\n",
    "\n",
    "The *logical operators* are:\n",
    "and (both must be true)\n",
    "or (one or both are true)\n",
    "not (this one is not true)\n",
    "\n",
    "All nonzero numbers are interpreted as true.\n",
    "\n",
    "### Conditional Execution\n",
    "You'll only be executed IF...\n",
    "nah just kidding. But yay! if statements!\n",
    "\n",
    "if x > 0:\n",
    "    print 'x is positive'\n",
    "  \n",
    "'if' statements are structured like function definitions, or 'compound statements'; all 'elif' pieces or 'else:' should be on the same indentation as the if.\n",
    "\n",
    "'elif' and 'else' are branches, which build into a chained conditional. Chained conditionals stop as soon as one is met.\n",
    "\n",
    "'pass' does nothing. Usually used as a placeholder.\n",
    "\n",
    "#### Recursion\n",
    "This is cool, a function can call itself. Lookee:"
   ]
  },
  {
   "cell_type": "code",
   "execution_count": 39,
   "metadata": {
    "collapsed": false
   },
   "outputs": [
    {
     "name": "stdout",
     "output_type": "stream",
     "text": [
      "10\n",
      "9\n",
      "8\n",
      "7\n",
      "6\n",
      "5\n",
      "4\n",
      "3\n",
      "2\n",
      "1\n",
      "Blastoff!\n"
     ]
    }
   ],
   "source": [
    "def countdown(n):\n",
    "    if n <= 0:\n",
    "        print 'Blastoff!'\n",
    "    else:\n",
    "        print n\n",
    "        countdown(n-1)\n",
    "        \n",
    "countdown(10)"
   ]
  },
  {
   "cell_type": "markdown",
   "metadata": {},
   "source": [
    "*return* lets you exit a function.\n",
    "\n",
    "...oops, that's not in today's stuff. Um. Sorry..."
   ]
  },
  {
   "cell_type": "markdown",
   "metadata": {},
   "source": [
    "### Exercise 3  \n",
    "\n",
    "Fermat’s Last Theorem says that there are no positive integers a, b, and c such that $a^n + b^n = c^n$ for any values of n greater than 2.\n",
    "\n",
    "(a) Write a function named `check_fermat` that takes four parameters—a, b, c and n—and that checks to see if Fermat’s theorem holds. If n is greater than 2 and it turns out to be true that\n",
    "$a^n + b^n = c^n$ the program should print, \"Holy smokes, Fermat was wrong!\" Otherwise the program should print, \"No, that doesn’t work.\""
   ]
  },
  {
   "cell_type": "code",
   "execution_count": 40,
   "metadata": {
    "collapsed": false
   },
   "outputs": [
    {
     "name": "stdout",
     "output_type": "stream",
     "text": [
      "Seriously? That, my friend, is not what we are trying to prove.\n",
      "Well, I mean, yes, but 1 really shouldn't count.\n",
      "No, that doesn't work...\n"
     ]
    }
   ],
   "source": [
    "def checkFermat(a,b,c,n): #sorry guys, I like the whole capital thing more...\n",
    "    if n == 2:\n",
    "        print 'Seriously? That, my friend, is not what we are trying to prove.'\n",
    "    elif a == 1 and b == 1 and c == 1:\n",
    "        print \"Well, I mean, yes, but 1 really shouldn't count.\"\n",
    "    else:\n",
    "        if (a**n + b**n) == c**n:\n",
    "            print 'Holy smokes, Fermat was... WRONG!'\n",
    "        else:\n",
    "            print \"No, that doesn't work...\"\n",
    "        \n",
    "checkFermat(2, 3, 5, 2)\n",
    "checkFermat(1, 1, 1, 15)\n",
    "checkFermat(5, 3, 4, 4)"
   ]
  },
  {
   "cell_type": "markdown",
   "metadata": {},
   "source": [
    "(b) Write a function that prompts the user to input values for a, b, c and n, converts them to integers, and uses check_fermat to check whether they violate Fermat’s theorem."
   ]
  },
  {
   "cell_type": "code",
   "execution_count": 43,
   "metadata": {
    "collapsed": false
   },
   "outputs": [
    {
     "name": "stdout",
     "output_type": "stream",
     "text": [
      "I'm going to need a few values to check Fermat.\n",
      "Please constrain yourself to positive integers that aren't 1...\n",
      "What do you want a to be?\n",
      "3\n",
      "How about b?\n",
      "4\n",
      "c's turn.\n",
      "5\n",
      "And finally, n. Remember, greater than 2.\n",
      "3\n",
      "No, that doesn't work...\n"
     ]
    }
   ],
   "source": [
    "def checkFermat(a,b,c,n): #sorry guys, I like the whole capital thing more...\n",
    "    if n == 2:\n",
    "        print 'Seriously? That, my friend, is not what we are trying to prove.'\n",
    "    elif a == 1 and b == 1 and c == 1:\n",
    "        print \"Well, I mean, yes, but 1 really shouldn't count.\"\n",
    "    else:\n",
    "        if (a**n + b**n) == c**n:\n",
    "            print 'Holy smokes, Fermat was... WRONG!'\n",
    "        else:\n",
    "            print \"No, that doesn't work...\"\n",
    "            \n",
    "def getInput():\n",
    "    print \"I'm going to need a few values to check Fermat.\"\n",
    "    print \"Please constrain yourself to positive integers that aren't 1...\"\n",
    "    a = raw_input(\"What do you want a to be?\\n\")\n",
    "    b = raw_input(\"How about b?\\n\")\n",
    "    c = raw_input(\"c's turn.\\n\")\n",
    "    n = raw_input(\"And finally, n. Remember, greater than 2.\\n\")\n",
    "    checkFermat(int(a),int(b),int(c),int(n))\n",
    "    \n",
    "getInput()"
   ]
  },
  {
   "cell_type": "markdown",
   "metadata": {},
   "source": [
    "### Exercise 4  \n",
    "\n",
    "If you are given three sticks, you may or may not be able to arrange them in a triangle. For example, if one of the sticks is 12 inches long and the other two are one inch long, it is clear that you will not be able to get the short sticks to meet in the middle. For any three lengths, there is a simple test to see if it is possible to form a triangle:\n",
    "> If any of the three lengths is greater than the sum of the other two, then you cannot form a triangle. Otherwise, you can. (If the sum of two lengths equals the third, they form what is called a “degenerate” triangle.)\n",
    "\n",
    "(a) Write a function named `is_triangle` that takes three integers as arguments, and that prints either \"Yes\" or \"No,\" depending on whether you can or cannot form a triangle from sticks with the given lengths."
   ]
  },
  {
   "cell_type": "code",
   "execution_count": 44,
   "metadata": {
    "collapsed": false
   },
   "outputs": [
    {
     "name": "stdout",
     "output_type": "stream",
     "text": [
      "Yes\n",
      "No\n"
     ]
    }
   ],
   "source": [
    "def isTriangle(a,b,c):\n",
    "    \"\"\"where a, b, and c are all lengths of triangle sides in the same unit.\"\"\"\n",
    "    if a + b < c or a + c < b or b + c < a:\n",
    "        print 'No'\n",
    "    else:\n",
    "        print 'Yes'\n",
    "        \n",
    "isTriangle(3,5,7)\n",
    "isTriangle(3,6,14)"
   ]
  },
  {
   "cell_type": "markdown",
   "metadata": {},
   "source": [
    "(b) Write a function that prompts the user to input three stick lengths, converts them to integers, and uses is_triangle to check whether sticks with the given lengths can form a triangle."
   ]
  },
  {
   "cell_type": "code",
   "execution_count": 46,
   "metadata": {
    "collapsed": false
   },
   "outputs": [
    {
     "name": "stdout",
     "output_type": "stream",
     "text": [
      "Alright, so let's see if those sticks can make triangles!\n",
      "Please make sure they are positive integer lengths.\n",
      "How long is the first stick?\n",
      "3\n",
      "Mhm... how about the second?\n",
      "7\n",
      "Okay, good, good... what about the third?\n",
      "12\n",
      "Got it! And, the answer is...\n",
      "No\n"
     ]
    }
   ],
   "source": [
    "def isTriangle(a,b,c):\n",
    "    \"\"\"where a, b, and c are all lengths of triangle sides in the same unit.\"\"\"\n",
    "    if a + b < c or a + c < b or b + c < a:\n",
    "        print 'No'\n",
    "    else:\n",
    "        print 'Yes'\n",
    "        \n",
    "print \"Alright, so let's see if those sticks can make triangles!\"\n",
    "print \"Please make sure they are positive integer lengths.\"\n",
    "a = int(raw_input(\"How long is the first stick?\\n\"))\n",
    "b = int(raw_input(\"Mhm... how about the second?\\n\"))\n",
    "c = int(raw_input(\"Okay, good, good... what about the third?\\n\"))\n",
    "print \"Got it! And, the answer is...\"\n",
    "isTriangle(a,b,c)"
   ]
  },
  {
   "cell_type": "markdown",
   "metadata": {},
   "source": [
    "## Notes for the Instructors\n",
    "\n",
    "Please use the space below to write comments to help us plan the next class session.  For instance, if you want to see us go over an example of a particular type of problem, you can indicate that here.\n",
    "\n",
    "Please remember that the best way to get quick feedback from the instructors as well as your peers, is to use Piazza.  However, consider using this channel if it doesn't make sense to post your note to Piazza."
   ]
  },
  {
   "cell_type": "markdown",
   "metadata": {},
   "source": [
    "Beyond some stuff I know is coming up (I could have gone back and done the for loops, I know...), this seemed pretty straightforward. I like this note-taking platform, thank you!"
   ]
  },
  {
   "cell_type": "code",
   "execution_count": null,
   "metadata": {
    "collapsed": true
   },
   "outputs": [],
   "source": []
  }
 ],
 "metadata": {
  "kernelspec": {
   "display_name": "Python 2",
   "language": "python",
   "name": "python2"
  },
  "language_info": {
   "codemirror_mode": {
    "name": "ipython",
    "version": 2
   },
   "file_extension": ".py",
   "mimetype": "text/x-python",
   "name": "python",
   "nbconvert_exporter": "python",
   "pygments_lexer": "ipython2",
   "version": "2.7.6"
  }
 },
 "nbformat": 4,
 "nbformat_minor": 0
}
