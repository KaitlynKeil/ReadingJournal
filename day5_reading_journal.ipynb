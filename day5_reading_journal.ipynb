{
 "cells": [
  {
   "cell_type": "markdown",
   "metadata": {},
   "source": [
    "# Day 5 Reading Journal\n",
    "\n",
    "This journal includes several required exercises, but it is meant to encourage active reading more generally.  You should use the journal to take detailed notes, catalog questions, and explore the content from Think Python deeply.\n",
    "\n",
    "Reading: Think Python Chapter 4\n",
    "\n",
    "**Due: Monday, February 8 at 12 noon**\n",
    "\n"
   ]
  },
  {
   "cell_type": "markdown",
   "metadata": {},
   "source": [
    "## [Chapter 4](http://www.greenteapress.com/thinkpython/html/thinkpython005.html)\n",
    "\n",
    "In today's reading, you'll be exploring TurtleWorld!\n",
    "TurtleWorld is part of the [swampy](http://www.greenteapress.com/thinkpython/swampy/) package, written by Allen Downey.\n",
    "As part of the [Get Set](https://sites.google.com/site/sd16spring/home/assignments-and-mini-projects/setup-your-environment) assignment, you installed the swampy package using the pip Python package management tool. If you somehow missed that step or you see errors when you try to import TurtleWorld, you can install swampy by running:\n",
    "\n",
    "```\n",
    "sudo pip install swampy\n",
    "```\n",
    "\n",
    "at the command line.\n",
    "\n",
    "### Turtle wrangling\n",
    "\n",
    "You can always run your code as separate Python scripts, but here are a few tips for mixing TurtleWorld with Jupyter notebook:\n",
    "\n",
    " - TurtleWorld will appear in a new GUI window, rather than inline in the notebook like typical results do\n",
    " - You will not be able to close the TurtleWorld window unless you run `wait_for_user()` as the last line of your code.\n",
    " - Jupyter notebook works like one big Python script, even though it is broken up into sections. This means that you could create a Turtle in one cell, move it in a later cell, and then `wait_for_user()` in yet another. Despite this, it might be easier to treat each cell in this assignment as a separate script, creating a new world at the beginning and destroying it at the end of each."
   ]
  },
  {
   "cell_type": "markdown",
   "metadata": {},
   "source": [
    "### Get started\n",
    "\n",
    "Run the code in the cell below and make sure everything works. You should see brave Alice spring into the world and run forward. You can close the window when you're done by clicking on the 'X'. If this simple test doesn't work, check your swampy install (especially if you get an `ImportError`) and ask for help."
   ]
  },
  {
   "cell_type": "code",
   "execution_count": 3,
   "metadata": {
    "collapsed": true
   },
   "outputs": [],
   "source": [
    "from swampy.TurtleWorld import *\n",
    "\n",
    "# Create the world, and a turtle to put in it\n",
    "world = TurtleWorld()\n",
    "alice = Turtle()\n",
    "\n",
    "# Get moving, turtle!\n",
    "i = 0\n",
    "while i < 4:\n",
    "    fd(alice, 50)\n",
    "    rt(alice)\n",
    "    i += 1\n",
    "\n",
    "\n",
    "# Wait for the user to close the window\n",
    "wait_for_user()"
   ]
  },
  {
   "cell_type": "markdown",
   "metadata": {
    "is_question": true,
    "problem": "Section 4.3"
   },
   "source": [
    "### Section 4.3 exercises\n",
    "Work through exercises 1-5 in Section 4.3, creating the `square`, `polygon`, `circle`, and `arc` functions. You can reference Allen's solutions, but please try the problems on your own first."
   ]
  },
  {
   "cell_type": "markdown",
   "metadata": {},
   "source": [
    "Well, they all worked beautifully except for arc, which is where I looked his up.\n",
    "(Turns out I forgot to make the 360 a float. I need to get better at that)"
   ]
  },
  {
   "cell_type": "code",
   "execution_count": 10,
   "metadata": {
    "collapsed": false,
    "solution": "Section 4.3"
   },
   "outputs": [],
   "source": [
    "from swampy.TurtleWorld import *\n",
    "from math import pi\n",
    "\n",
    "# Create the world, and a turtle to put in it\n",
    "world = TurtleWorld()\n",
    "alice = Turtle()\n",
    "alice.delay = 0.01\n",
    "\n",
    "def square(t,length):\n",
    "    \"\"\"Draws you a square.\n",
    "    t: a turtle\n",
    "    length: the length of the square's sides\n",
    "    \"\"\"\n",
    "    for i in range(4):\n",
    "        fd(t, length)\n",
    "        rt(t)\n",
    "\n",
    "def polyline(t, l, n, angle):\n",
    "    \"\"\"Draws a thing with n sides of l length\n",
    "    t: a turtle\n",
    "    l: length of each line segment\n",
    "    n: number of line segments\n",
    "    angle: the angle between each line segment. 360.0/n if the shape\n",
    "        is complete, 180.0/n if the shape goes halfway, etc.\n",
    "    \"\"\"\n",
    "    for i in range(n):\n",
    "        fd(t, l)\n",
    "        rt(t, angle)\n",
    "        \n",
    "def polygon(t, length, n):\n",
    "    \"\"\"Draws a polygon with n sides\n",
    "    t: a turtle\n",
    "    length: the length of each side\n",
    "    n: the number of sides\n",
    "    \"\"\"\n",
    "    angle = 360.0/n\n",
    "    polyline(t, length, n, angle)\n",
    "        \n",
    "def circle(t, r):\n",
    "    \"\"\"Uses the turtle, t, to draw a circle of radius r \"\"\"\n",
    "    arc(t, r, 360.0)\n",
    "\n",
    "def arc(t, r, angle):\n",
    "    \"\"\"Draws an arc\n",
    "    t: a turtle\n",
    "    r: radius of the arc\n",
    "    angle: the angle the arc covers\"\"\"\n",
    "    arc_length = 2 * pi * r * (abs(angle)/360.0)\n",
    "    n = int(arc_length / 4) + 1\n",
    "    length = arc_length / n\n",
    "    step_angle = float(angle) / n\n",
    "    \n",
    "    rt(t,step_angle/2)\n",
    "    polyline(t, length, n, step_angle)\n",
    "    lt(t, step_angle/2)\n",
    "\n",
    "circle(alice, 100)\n",
    "for i in [50,100,150]:\n",
    "    square(alice, i)\n",
    "    for s in [3,5,7]:\n",
    "        polygon(alice,i,s)\n",
    "arc(alice, 100, 90)\n",
    "\n",
    "    \n",
    "wait_for_user()"
   ]
  },
  {
   "cell_type": "markdown",
   "metadata": {
    "is_question": true,
    "problem": "More fun"
   },
   "source": [
    "### Exercise: More fun with Turtles!\n",
    "Complete at least one of Exercise 2, 3, 4, or 5. If you come up with some cool drawings you'd like to share with the rest of the class, let us know!"
   ]
  },
  {
   "cell_type": "markdown",
   "metadata": {},
   "source": [
    "Refactoring: the thing I did above with polyline (yeah, even if I stole it from him). Aka \"rearranging a program to improve function interfaces and facilitate code re-use.\"\n",
    "\n",
    "Development plan: have one. One version is writing a non-function program, get it working, put it in a function with a name, generalize it, repeat for working functions, watch for similarities you could refactor.\n",
    "\n",
    "Preconditions: the part of the docstring that tells you 't should be a Turtle, n is the # of line segs, blah de dah'\n",
    "Postconditions: what the functions should do/return"
   ]
  },
  {
   "cell_type": "code",
   "execution_count": 18,
   "metadata": {
    "collapsed": false,
    "solution": "More fun"
   },
   "outputs": [],
   "source": [
    "from swampy.TurtleWorld import *\n",
    "from math import pi\n",
    "world = TurtleWorld()\n",
    "alice = Turtle()\n",
    "alice.delay = 0.01\n",
    "\n",
    "def polyline(t, l, n, angle):\n",
    "    for i in range(n):\n",
    "        fd(t, l)\n",
    "        rt(t, angle)\n",
    "        \n",
    "def arc(t, r, angle):\n",
    "    arc_length = 2 * pi * r * (abs(angle)/360.0)\n",
    "    n = int(arc_length / 4) + 1\n",
    "    length = arc_length / n\n",
    "    step_angle = float(angle) / n\n",
    "    rt(t,step_angle/2)\n",
    "    polyline(t, length, n, step_angle)\n",
    "    lt(t, step_angle/2)\n",
    "\n",
    "def petal(t, r, angle):\n",
    "    \"\"\" Draws a petal using two arcs of radius r and an angle between\n",
    "    them of angle\"\"\"\n",
    "    turn = 180.0 - angle\n",
    "    for line in range(2):\n",
    "        arc(t, r, angle)\n",
    "        rt(t, turn)\n",
    "        \n",
    "def turtle_flower(t, r, n, angle):\n",
    "    \"\"\" Draws a flower with n petals. Each petal is part of a circle\n",
    "        with the radius r and angle, which subtends the arcs\n",
    "    \"\"\"\n",
    "    for i in range(n):\n",
    "        petal(t, r, angle)\n",
    "        rt(t, 360.0/n)\n",
    "\n",
    "def double_flower(t, r1, r2, n1, n2, angle):\n",
    "    \"\"\" Draws a flower with two layers of petals, corresponding to\n",
    "    r1, r2, n1, and n2\"\"\"\n",
    "    turtle_flower(t, r1, n1, angle)\n",
    "    turtle_flower(t, r2, n2, angle)\n",
    "    \n",
    "double_flower(alice, 100.0, 30.0, 13, 13, 60.0)\n",
    "\n",
    "wait_for_user()"
   ]
  },
  {
   "cell_type": "code",
   "execution_count": 47,
   "metadata": {
    "collapsed": false
   },
   "outputs": [],
   "source": [
    "from swampy.TurtleWorld import *\n",
    "from math import *\n",
    "world = TurtleWorld()\n",
    "alice = Turtle()\n",
    "alice.delay = 0.01\n",
    "\n",
    "def polyline(t, l, n, angle):\n",
    "    for i in range(n):\n",
    "        fd(t, l)\n",
    "        rt(t, angle)\n",
    "\n",
    "def draw_triangle(t, l, angle):\n",
    "    \"\"\"t is turtle, l is side length, angle is the angle in the center\"\"\"\n",
    "    outer_angle = 90 + angle\n",
    "    outer_side = 2 * (l * sin(angle * pi / 180))\n",
    "    fd(t, l)\n",
    "    rt(t, outer_angle)\n",
    "    fd(t, outer_side)\n",
    "    rt(t, outer_angle)\n",
    "    fd(t, l)\n",
    "    rt(t, angle)\n",
    "        \n",
    "def draw_turtle_pie(t, n, l):\n",
    "    \"\"\"t is turtle, n is number of slices, l is length of slice sides\"\"\"\n",
    "    angle = 360.0 / n\n",
    "    first_turn = angle / 2.0\n",
    "    lt(t, first_turn)\n",
    "    for i in range(n):\n",
    "        draw_triangle(t,l,angle / 2.0)\n",
    "        lt(t, angle)\n",
    "\n",
    "draw_turtle_pie(alice, 11, 50)\n",
    "\n",
    "wait_for_user()"
   ]
  },
  {
   "cell_type": "markdown",
   "metadata": {},
   "source": [
    "## Reading Journal feedback\n",
    "\n",
    "Have any comments on this Reading Journal? Feel free to leave them below and we'll read them when you submit your journal entry. This could include suggestions to improve the exercises, topics you'd like to see covered in class next time, or other feedback.\n",
    "\n",
    "If you have Python questions or run into problems while completing the reading, you should post them to Piazza instead so you can get a quick response before your journal is submitted."
   ]
  },
  {
   "cell_type": "markdown",
   "metadata": {},
   "source": [
    " "
   ]
  }
 ],
 "metadata": {
  "kernelspec": {
   "display_name": "Python 2",
   "language": "python",
   "name": "python2"
  },
  "language_info": {
   "codemirror_mode": {
    "name": "ipython",
    "version": 2
   },
   "file_extension": ".py",
   "mimetype": "text/x-python",
   "name": "python",
   "nbconvert_exporter": "python",
   "pygments_lexer": "ipython2",
   "version": "2.7.6"
  }
 },
 "nbformat": 4,
 "nbformat_minor": 0
}
